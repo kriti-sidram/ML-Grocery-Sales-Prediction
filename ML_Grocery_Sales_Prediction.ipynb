{
  "nbformat": 4,
  "nbformat_minor": 0,
  "metadata": {
    "colab": {
      "name": "ML Grocery Sales Prediction.ipynb",
      "provenance": [],
      "collapsed_sections": [],
      "mount_file_id": "1XjSfKDl0CJsgoQOzG0nbnppkA1lz5h_X",
      "authorship_tag": "ABX9TyO6137W0u0L7eKW4P3H/O90",
      "include_colab_link": true
    },
    "kernelspec": {
      "name": "python3",
      "display_name": "Python 3"
    },
    "language_info": {
      "name": "python"
    }
  },
  "cells": [
    {
      "cell_type": "markdown",
      "metadata": {
        "id": "view-in-github",
        "colab_type": "text"
      },
      "source": [
        "<a href=\"https://colab.research.google.com/github/prakruti-sid/ML-Grocery-Sales-Prediction/blob/main/ML_Grocery_Sales_Prediction.ipynb\" target=\"_parent\"><img src=\"https://colab.research.google.com/assets/colab-badge.svg\" alt=\"Open In Colab\"/></a>"
      ]
    },
    {
      "cell_type": "markdown",
      "source": [
        "## Grocery Sales Prediction Model using Machine Learning 🛒\n",
        "\n",
        ">Prakruthi Sidram\n",
        "\n"
      ],
      "metadata": {
        "id": "STp_H7mHu2bR"
      }
    },
    {
      "cell_type": "markdown",
      "source": [
        "## Loading Dataset 🔢"
      ],
      "metadata": {
        "id": "rfucE7eH2faj"
      }
    },
    {
      "cell_type": "code",
      "source": [
        "# Libraries \n",
        "\n",
        "import pandas as pd\n",
        "import numpy as np\n",
        "\n",
        "from sklearn.model_selection import train_test_split\n",
        "from sklearn.compose import make_column_selector, make_column_transformer\n",
        "from sklearn.preprocessing import StandardScaler, MinMaxScaler, OneHotEncoder, OrdinalEncoder\n",
        "from sklearn.pipeline import make_pipeline\n",
        "from sklearn.impute import SimpleImputer\n",
        "from sklearn import set_config\n",
        "set_config(display= 'diagram')"
      ],
      "metadata": {
        "id": "gbPYCJfOu2-r"
      },
      "execution_count": 1,
      "outputs": []
    },
    {
      "cell_type": "code",
      "execution_count": 2,
      "metadata": {
        "id": "kraiya4pJAKt"
      },
      "outputs": [],
      "source": [
        "# data\n",
        "path = 'https://docs.google.com/spreadsheets/d/e/2PACX-1vQPMdCEJ1LpPZar8BrFWWWcZ0hC-77-3LtM8O02UAp-hQ8fuXWVd_NDf5zeKu1nYVS1D6HtrgzemDMS/pub?output=csv'"
      ]
    },
    {
      "cell_type": "code",
      "source": [
        "grocery = pd.read_csv(path)\n",
        "grocery.head()"
      ],
      "metadata": {
        "colab": {
          "base_uri": "https://localhost:8080/",
          "height": 357
        },
        "id": "vODK00kSu3dn",
        "outputId": "583269b3-d3f6-4dc7-e79f-b1ece4212496"
      },
      "execution_count": 3,
      "outputs": [
        {
          "output_type": "execute_result",
          "data": {
            "text/plain": [
              "  Item_Identifier  Item_Weight Item_Fat_Content  Item_Visibility  \\\n",
              "0           FDA15         9.30          Low Fat         0.016047   \n",
              "1           DRC01         5.92          Regular         0.019278   \n",
              "2           FDN15        17.50          Low Fat         0.016760   \n",
              "3           FDX07        19.20          Regular         0.000000   \n",
              "4           NCD19         8.93          Low Fat         0.000000   \n",
              "\n",
              "               Item_Type  Item_MRP Outlet_Identifier  \\\n",
              "0                  Dairy  249.8092            OUT049   \n",
              "1            Soft Drinks   48.2692            OUT018   \n",
              "2                   Meat  141.6180            OUT049   \n",
              "3  Fruits and Vegetables  182.0950            OUT010   \n",
              "4              Household   53.8614            OUT013   \n",
              "\n",
              "   Outlet_Establishment_Year Outlet_Size Outlet_Location_Type  \\\n",
              "0                       1999      Medium               Tier 1   \n",
              "1                       2009      Medium               Tier 3   \n",
              "2                       1999      Medium               Tier 1   \n",
              "3                       1998         NaN               Tier 3   \n",
              "4                       1987        High               Tier 3   \n",
              "\n",
              "         Outlet_Type  Item_Outlet_Sales  \n",
              "0  Supermarket Type1          3735.1380  \n",
              "1  Supermarket Type2           443.4228  \n",
              "2  Supermarket Type1          2097.2700  \n",
              "3      Grocery Store           732.3800  \n",
              "4  Supermarket Type1           994.7052  "
            ],
            "text/html": [
              "\n",
              "  <div id=\"df-df821cf5-6e36-4027-8ab6-9f15720dcb98\">\n",
              "    <div class=\"colab-df-container\">\n",
              "      <div>\n",
              "<style scoped>\n",
              "    .dataframe tbody tr th:only-of-type {\n",
              "        vertical-align: middle;\n",
              "    }\n",
              "\n",
              "    .dataframe tbody tr th {\n",
              "        vertical-align: top;\n",
              "    }\n",
              "\n",
              "    .dataframe thead th {\n",
              "        text-align: right;\n",
              "    }\n",
              "</style>\n",
              "<table border=\"1\" class=\"dataframe\">\n",
              "  <thead>\n",
              "    <tr style=\"text-align: right;\">\n",
              "      <th></th>\n",
              "      <th>Item_Identifier</th>\n",
              "      <th>Item_Weight</th>\n",
              "      <th>Item_Fat_Content</th>\n",
              "      <th>Item_Visibility</th>\n",
              "      <th>Item_Type</th>\n",
              "      <th>Item_MRP</th>\n",
              "      <th>Outlet_Identifier</th>\n",
              "      <th>Outlet_Establishment_Year</th>\n",
              "      <th>Outlet_Size</th>\n",
              "      <th>Outlet_Location_Type</th>\n",
              "      <th>Outlet_Type</th>\n",
              "      <th>Item_Outlet_Sales</th>\n",
              "    </tr>\n",
              "  </thead>\n",
              "  <tbody>\n",
              "    <tr>\n",
              "      <th>0</th>\n",
              "      <td>FDA15</td>\n",
              "      <td>9.30</td>\n",
              "      <td>Low Fat</td>\n",
              "      <td>0.016047</td>\n",
              "      <td>Dairy</td>\n",
              "      <td>249.8092</td>\n",
              "      <td>OUT049</td>\n",
              "      <td>1999</td>\n",
              "      <td>Medium</td>\n",
              "      <td>Tier 1</td>\n",
              "      <td>Supermarket Type1</td>\n",
              "      <td>3735.1380</td>\n",
              "    </tr>\n",
              "    <tr>\n",
              "      <th>1</th>\n",
              "      <td>DRC01</td>\n",
              "      <td>5.92</td>\n",
              "      <td>Regular</td>\n",
              "      <td>0.019278</td>\n",
              "      <td>Soft Drinks</td>\n",
              "      <td>48.2692</td>\n",
              "      <td>OUT018</td>\n",
              "      <td>2009</td>\n",
              "      <td>Medium</td>\n",
              "      <td>Tier 3</td>\n",
              "      <td>Supermarket Type2</td>\n",
              "      <td>443.4228</td>\n",
              "    </tr>\n",
              "    <tr>\n",
              "      <th>2</th>\n",
              "      <td>FDN15</td>\n",
              "      <td>17.50</td>\n",
              "      <td>Low Fat</td>\n",
              "      <td>0.016760</td>\n",
              "      <td>Meat</td>\n",
              "      <td>141.6180</td>\n",
              "      <td>OUT049</td>\n",
              "      <td>1999</td>\n",
              "      <td>Medium</td>\n",
              "      <td>Tier 1</td>\n",
              "      <td>Supermarket Type1</td>\n",
              "      <td>2097.2700</td>\n",
              "    </tr>\n",
              "    <tr>\n",
              "      <th>3</th>\n",
              "      <td>FDX07</td>\n",
              "      <td>19.20</td>\n",
              "      <td>Regular</td>\n",
              "      <td>0.000000</td>\n",
              "      <td>Fruits and Vegetables</td>\n",
              "      <td>182.0950</td>\n",
              "      <td>OUT010</td>\n",
              "      <td>1998</td>\n",
              "      <td>NaN</td>\n",
              "      <td>Tier 3</td>\n",
              "      <td>Grocery Store</td>\n",
              "      <td>732.3800</td>\n",
              "    </tr>\n",
              "    <tr>\n",
              "      <th>4</th>\n",
              "      <td>NCD19</td>\n",
              "      <td>8.93</td>\n",
              "      <td>Low Fat</td>\n",
              "      <td>0.000000</td>\n",
              "      <td>Household</td>\n",
              "      <td>53.8614</td>\n",
              "      <td>OUT013</td>\n",
              "      <td>1987</td>\n",
              "      <td>High</td>\n",
              "      <td>Tier 3</td>\n",
              "      <td>Supermarket Type1</td>\n",
              "      <td>994.7052</td>\n",
              "    </tr>\n",
              "  </tbody>\n",
              "</table>\n",
              "</div>\n",
              "      <button class=\"colab-df-convert\" onclick=\"convertToInteractive('df-df821cf5-6e36-4027-8ab6-9f15720dcb98')\"\n",
              "              title=\"Convert this dataframe to an interactive table.\"\n",
              "              style=\"display:none;\">\n",
              "        \n",
              "  <svg xmlns=\"http://www.w3.org/2000/svg\" height=\"24px\"viewBox=\"0 0 24 24\"\n",
              "       width=\"24px\">\n",
              "    <path d=\"M0 0h24v24H0V0z\" fill=\"none\"/>\n",
              "    <path d=\"M18.56 5.44l.94 2.06.94-2.06 2.06-.94-2.06-.94-.94-2.06-.94 2.06-2.06.94zm-11 1L8.5 8.5l.94-2.06 2.06-.94-2.06-.94L8.5 2.5l-.94 2.06-2.06.94zm10 10l.94 2.06.94-2.06 2.06-.94-2.06-.94-.94-2.06-.94 2.06-2.06.94z\"/><path d=\"M17.41 7.96l-1.37-1.37c-.4-.4-.92-.59-1.43-.59-.52 0-1.04.2-1.43.59L10.3 9.45l-7.72 7.72c-.78.78-.78 2.05 0 2.83L4 21.41c.39.39.9.59 1.41.59.51 0 1.02-.2 1.41-.59l7.78-7.78 2.81-2.81c.8-.78.8-2.07 0-2.86zM5.41 20L4 18.59l7.72-7.72 1.47 1.35L5.41 20z\"/>\n",
              "  </svg>\n",
              "      </button>\n",
              "      \n",
              "  <style>\n",
              "    .colab-df-container {\n",
              "      display:flex;\n",
              "      flex-wrap:wrap;\n",
              "      gap: 12px;\n",
              "    }\n",
              "\n",
              "    .colab-df-convert {\n",
              "      background-color: #E8F0FE;\n",
              "      border: none;\n",
              "      border-radius: 50%;\n",
              "      cursor: pointer;\n",
              "      display: none;\n",
              "      fill: #1967D2;\n",
              "      height: 32px;\n",
              "      padding: 0 0 0 0;\n",
              "      width: 32px;\n",
              "    }\n",
              "\n",
              "    .colab-df-convert:hover {\n",
              "      background-color: #E2EBFA;\n",
              "      box-shadow: 0px 1px 2px rgba(60, 64, 67, 0.3), 0px 1px 3px 1px rgba(60, 64, 67, 0.15);\n",
              "      fill: #174EA6;\n",
              "    }\n",
              "\n",
              "    [theme=dark] .colab-df-convert {\n",
              "      background-color: #3B4455;\n",
              "      fill: #D2E3FC;\n",
              "    }\n",
              "\n",
              "    [theme=dark] .colab-df-convert:hover {\n",
              "      background-color: #434B5C;\n",
              "      box-shadow: 0px 1px 3px 1px rgba(0, 0, 0, 0.15);\n",
              "      filter: drop-shadow(0px 1px 2px rgba(0, 0, 0, 0.3));\n",
              "      fill: #FFFFFF;\n",
              "    }\n",
              "  </style>\n",
              "\n",
              "      <script>\n",
              "        const buttonEl =\n",
              "          document.querySelector('#df-df821cf5-6e36-4027-8ab6-9f15720dcb98 button.colab-df-convert');\n",
              "        buttonEl.style.display =\n",
              "          google.colab.kernel.accessAllowed ? 'block' : 'none';\n",
              "\n",
              "        async function convertToInteractive(key) {\n",
              "          const element = document.querySelector('#df-df821cf5-6e36-4027-8ab6-9f15720dcb98');\n",
              "          const dataTable =\n",
              "            await google.colab.kernel.invokeFunction('convertToInteractive',\n",
              "                                                     [key], {});\n",
              "          if (!dataTable) return;\n",
              "\n",
              "          const docLinkHtml = 'Like what you see? Visit the ' +\n",
              "            '<a target=\"_blank\" href=https://colab.research.google.com/notebooks/data_table.ipynb>data table notebook</a>'\n",
              "            + ' to learn more about interactive tables.';\n",
              "          element.innerHTML = '';\n",
              "          dataTable['output_type'] = 'display_data';\n",
              "          await google.colab.output.renderOutput(dataTable, element);\n",
              "          const docLink = document.createElement('div');\n",
              "          docLink.innerHTML = docLinkHtml;\n",
              "          element.appendChild(docLink);\n",
              "        }\n",
              "      </script>\n",
              "    </div>\n",
              "  </div>\n",
              "  "
            ]
          },
          "metadata": {},
          "execution_count": 3
        }
      ]
    },
    {
      "cell_type": "code",
      "source": [
        "# Copy the dataframe\n",
        "df = grocery.copy()"
      ],
      "metadata": {
        "id": "Bx_0C_On0s4m"
      },
      "execution_count": 4,
      "outputs": []
    },
    {
      "cell_type": "markdown",
      "source": [
        "### Initial Inspection 🔎"
      ],
      "metadata": {
        "id": "M_n7nBai3I0R"
      }
    },
    {
      "cell_type": "code",
      "source": [
        "df.info()"
      ],
      "metadata": {
        "colab": {
          "base_uri": "https://localhost:8080/"
        },
        "id": "CfPgox3D0047",
        "outputId": "619fa1e2-a8f4-499b-873d-50ff04e226e3"
      },
      "execution_count": 5,
      "outputs": [
        {
          "output_type": "stream",
          "name": "stdout",
          "text": [
            "<class 'pandas.core.frame.DataFrame'>\n",
            "RangeIndex: 8523 entries, 0 to 8522\n",
            "Data columns (total 12 columns):\n",
            " #   Column                     Non-Null Count  Dtype  \n",
            "---  ------                     --------------  -----  \n",
            " 0   Item_Identifier            8523 non-null   object \n",
            " 1   Item_Weight                7060 non-null   float64\n",
            " 2   Item_Fat_Content           8523 non-null   object \n",
            " 3   Item_Visibility            8523 non-null   float64\n",
            " 4   Item_Type                  8523 non-null   object \n",
            " 5   Item_MRP                   8523 non-null   float64\n",
            " 6   Outlet_Identifier          8523 non-null   object \n",
            " 7   Outlet_Establishment_Year  8523 non-null   int64  \n",
            " 8   Outlet_Size                6113 non-null   object \n",
            " 9   Outlet_Location_Type       8523 non-null   object \n",
            " 10  Outlet_Type                8523 non-null   object \n",
            " 11  Item_Outlet_Sales          8523 non-null   float64\n",
            "dtypes: float64(4), int64(1), object(7)\n",
            "memory usage: 799.2+ KB\n"
          ]
        }
      ]
    },
    {
      "cell_type": "code",
      "source": [
        "# Duplicates Check and Fix\n",
        "\n",
        "df.duplicated().sum()"
      ],
      "metadata": {
        "colab": {
          "base_uri": "https://localhost:8080/"
        },
        "id": "MHmQW5Gq04NK",
        "outputId": "237fed11-3865-46dc-8a7a-86f4ff63c848"
      },
      "execution_count": 6,
      "outputs": [
        {
          "output_type": "execute_result",
          "data": {
            "text/plain": [
              "0"
            ]
          },
          "metadata": {},
          "execution_count": 6
        }
      ]
    },
    {
      "cell_type": "code",
      "source": [
        "df.isna().sum()"
      ],
      "metadata": {
        "colab": {
          "base_uri": "https://localhost:8080/"
        },
        "id": "eGzD2pVE1CjU",
        "outputId": "76b4d259-764c-4198-e572-09c43d2247d9"
      },
      "execution_count": 7,
      "outputs": [
        {
          "output_type": "execute_result",
          "data": {
            "text/plain": [
              "Item_Identifier                 0\n",
              "Item_Weight                  1463\n",
              "Item_Fat_Content                0\n",
              "Item_Visibility                 0\n",
              "Item_Type                       0\n",
              "Item_MRP                        0\n",
              "Outlet_Identifier               0\n",
              "Outlet_Establishment_Year       0\n",
              "Outlet_Size                  2410\n",
              "Outlet_Location_Type            0\n",
              "Outlet_Type                     0\n",
              "Item_Outlet_Sales               0\n",
              "dtype: int64"
            ]
          },
          "metadata": {},
          "execution_count": 7
        }
      ]
    },
    {
      "cell_type": "markdown",
      "source": [
        "Our '`target`' for this model is `Item_Outlet_Sales`\n",
        "which does not have any `missing` values. So we will not `drop` any rows at this point."
      ],
      "metadata": {
        "id": "Bxo_DtYM1Ntp"
      }
    },
    {
      "cell_type": "markdown",
      "source": [
        "Exploring the Features 🔍\n",
        "\n",
        " Columns | Dtype | Feature Type\n",
        "--------- | --------| ----------| \n",
        "0   Item_Identifier   |    object | Nominal \n",
        "1   Item_Weight  |   float64 | Numerical\n",
        "2   Item_Fat_Content    |  object | Nominal\n",
        "3   Item_Visibility         | float64 | Numerical\n",
        "4   Item_Type               | object | Nominal\n",
        "5   Item_MRP                   |  float64 | Numerical\n",
        "6   Outlet_Identifier          |  object | Nominal\n",
        "7  Outlet_Establishment_Year   |int64 | Numerical\n",
        "8   Outlet_Size                  |object | Ordinal\n",
        "9   Outlet_Location_Type         |object | Ordinal\n",
        "10  Outlet_Type                 |object | Nominal\n",
        "11  Item_Outlet_Sales            |float64| Numerical"
      ],
      "metadata": {
        "id": "zyAZY3Hb8UUF"
      }
    },
    {
      "cell_type": "markdown",
      "source": [
        "### Pre Split Cleaning ❎\n",
        "Before splitting your data, you can drop duplicates and fix inconsistencies in categorical data.* (There is a way to do this after the split, but for this project, you may perform this step before the split)"
      ],
      "metadata": {
        "id": "LClqEwJZ_y2a"
      }
    },
    {
      "cell_type": "code",
      "source": [
        "# Dropping the Identifier Columns as it won't help the model\n",
        "df.drop(['item_identifier','outlet_identifier'], axis=1,inplace=True)"
      ],
      "metadata": {
        "id": "NgfNDcG7Aoer"
      },
      "execution_count": null,
      "outputs": []
    },
    {
      "cell_type": "code",
      "source": [
        "# Inspecting categorical columns \n",
        "for col in df.select_dtypes(include= 'object').columns:\n",
        "  display(df[col].value_counts())\n",
        "  print('\\n')"
      ],
      "metadata": {
        "colab": {
          "base_uri": "https://localhost:8080/",
          "height": 1000
        },
        "id": "8x3mtkekABBc",
        "outputId": "b32cc739-e10d-43ae-e305-793e3f359539"
      },
      "execution_count": 10,
      "outputs": [
        {
          "output_type": "display_data",
          "data": {
            "text/plain": [
              "FDW13    10\n",
              "FDG33    10\n",
              "NCY18     9\n",
              "FDD38     9\n",
              "DRE49     9\n",
              "         ..\n",
              "FDY43     1\n",
              "FDQ60     1\n",
              "FDO33     1\n",
              "DRF48     1\n",
              "FDC23     1\n",
              "Name: Item_Identifier, Length: 1559, dtype: int64"
            ]
          },
          "metadata": {}
        },
        {
          "output_type": "stream",
          "name": "stdout",
          "text": [
            "\n",
            "\n"
          ]
        },
        {
          "output_type": "display_data",
          "data": {
            "text/plain": [
              "Low Fat    5089\n",
              "Regular    2889\n",
              "LF          316\n",
              "reg         117\n",
              "low fat     112\n",
              "Name: Item_Fat_Content, dtype: int64"
            ]
          },
          "metadata": {}
        },
        {
          "output_type": "stream",
          "name": "stdout",
          "text": [
            "\n",
            "\n"
          ]
        },
        {
          "output_type": "display_data",
          "data": {
            "text/plain": [
              "Fruits and Vegetables    1232\n",
              "Snack Foods              1200\n",
              "Household                 910\n",
              "Frozen Foods              856\n",
              "Dairy                     682\n",
              "Canned                    649\n",
              "Baking Goods              648\n",
              "Health and Hygiene        520\n",
              "Soft Drinks               445\n",
              "Meat                      425\n",
              "Breads                    251\n",
              "Hard Drinks               214\n",
              "Others                    169\n",
              "Starchy Foods             148\n",
              "Breakfast                 110\n",
              "Seafood                    64\n",
              "Name: Item_Type, dtype: int64"
            ]
          },
          "metadata": {}
        },
        {
          "output_type": "stream",
          "name": "stdout",
          "text": [
            "\n",
            "\n"
          ]
        },
        {
          "output_type": "display_data",
          "data": {
            "text/plain": [
              "OUT027    935\n",
              "OUT013    932\n",
              "OUT049    930\n",
              "OUT046    930\n",
              "OUT035    930\n",
              "OUT045    929\n",
              "OUT018    928\n",
              "OUT017    926\n",
              "OUT010    555\n",
              "OUT019    528\n",
              "Name: Outlet_Identifier, dtype: int64"
            ]
          },
          "metadata": {}
        },
        {
          "output_type": "stream",
          "name": "stdout",
          "text": [
            "\n",
            "\n"
          ]
        },
        {
          "output_type": "display_data",
          "data": {
            "text/plain": [
              "Medium    2793\n",
              "Small     2388\n",
              "High       932\n",
              "Name: Outlet_Size, dtype: int64"
            ]
          },
          "metadata": {}
        },
        {
          "output_type": "stream",
          "name": "stdout",
          "text": [
            "\n",
            "\n"
          ]
        },
        {
          "output_type": "display_data",
          "data": {
            "text/plain": [
              "Tier 3    3350\n",
              "Tier 2    2785\n",
              "Tier 1    2388\n",
              "Name: Outlet_Location_Type, dtype: int64"
            ]
          },
          "metadata": {}
        },
        {
          "output_type": "stream",
          "name": "stdout",
          "text": [
            "\n",
            "\n"
          ]
        },
        {
          "output_type": "display_data",
          "data": {
            "text/plain": [
              "Supermarket Type1    5577\n",
              "Grocery Store        1083\n",
              "Supermarket Type3     935\n",
              "Supermarket Type2     928\n",
              "Name: Outlet_Type, dtype: int64"
            ]
          },
          "metadata": {}
        },
        {
          "output_type": "stream",
          "name": "stdout",
          "text": [
            "\n",
            "\n"
          ]
        }
      ]
    },
    {
      "cell_type": "markdown",
      "source": [
        "Fixing Inconsistencies "
      ],
      "metadata": {
        "id": "kaLTeMrOR4M-"
      }
    },
    {
      "cell_type": "code",
      "source": [
        "# Fixing Fat Content Column \n",
        "df.columns = df.columns.str.lower()\n",
        "fat_content_map = {'reg':'Regular',\n",
        "                   'LF' : 'Low Fat',\n",
        "                   'low fat' : 'Low Fat'\n",
        "                   }\n",
        "df['item_fat_content'] = df['item_fat_content'].replace(fat_content_map)"
      ],
      "metadata": {
        "id": "UkNmquu3AA1D"
      },
      "execution_count": 11,
      "outputs": []
    },
    {
      "cell_type": "code",
      "source": [
        "df['item_fat_content'].value_counts()"
      ],
      "metadata": {
        "colab": {
          "base_uri": "https://localhost:8080/"
        },
        "id": "L64exbGUE0LR",
        "outputId": "a3d8bb22-0d4a-4b71-a8c0-4494dd9a1c71"
      },
      "execution_count": 12,
      "outputs": [
        {
          "output_type": "execute_result",
          "data": {
            "text/plain": [
              "Low Fat    5517\n",
              "Regular    3006\n",
              "Name: item_fat_content, dtype: int64"
            ]
          },
          "metadata": {},
          "execution_count": 12
        }
      ]
    },
    {
      "cell_type": "code",
      "source": [
        "df.replace(['High'],['Large'],inplace=True)"
      ],
      "metadata": {
        "id": "KCDlZF6BJvJR"
      },
      "execution_count": 13,
      "outputs": []
    },
    {
      "cell_type": "code",
      "source": [
        "df['outlet_size'].value_counts()"
      ],
      "metadata": {
        "colab": {
          "base_uri": "https://localhost:8080/"
        },
        "id": "RYs4oPOPKgnt",
        "outputId": "f222c781-c2a1-4356-e41b-af3b7524d3de"
      },
      "execution_count": 14,
      "outputs": [
        {
          "output_type": "execute_result",
          "data": {
            "text/plain": [
              "Medium    2793\n",
              "Small     2388\n",
              "Large      932\n",
              "Name: outlet_size, dtype: int64"
            ]
          },
          "metadata": {},
          "execution_count": 14
        }
      ]
    },
    {
      "cell_type": "markdown",
      "source": [
        "## Validation, Encoding & Transformers 🔰 "
      ],
      "metadata": {
        "id": "QAZi69fNSuv4"
      }
    },
    {
      "cell_type": "markdown",
      "source": [
        "### Validation Split 🔪"
      ],
      "metadata": {
        "id": "na4mUzIA1spe"
      }
    },
    {
      "cell_type": "code",
      "source": [
        "# Target y :\n",
        "y = df['item_outlet_sales']\n",
        "# Features X\n",
        "X = df.drop(columns=['item_outlet_sales'])"
      ],
      "metadata": {
        "id": "c3WrugSW3ZIx"
      },
      "execution_count": 15,
      "outputs": []
    },
    {
      "cell_type": "code",
      "source": [
        "X_train,X_test,y_train,y_test = train_test_split(X,y,random_state=42)"
      ],
      "metadata": {
        "id": "sB3U3A1W3Y8X"
      },
      "execution_count": 16,
      "outputs": []
    },
    {
      "cell_type": "markdown",
      "source": [
        "### Pipelines & Transformers *🗒*"
      ],
      "metadata": {
        "id": "5u90NKxt1wrF"
      }
    },
    {
      "cell_type": "markdown",
      "source": [
        "#### Instantiate Transformers 🖌"
      ],
      "metadata": {
        "id": "erflw-B51wc7"
      }
    },
    {
      "cell_type": "code",
      "source": [
        "scaler = StandardScaler()\n",
        "ohe = OneHotEncoder(sparse=False, handle_unknown= 'ignore')\n",
        "\n",
        "mean_imputer = SimpleImputer(strategy='mean')\n",
        "most_freq_imputer = SimpleImputer(strategy='most_frequent')\n"
      ],
      "metadata": {
        "id": "9NlrfGRu3a5Z"
      },
      "execution_count": 17,
      "outputs": []
    },
    {
      "cell_type": "markdown",
      "source": [
        "#### Ordinal Encoder"
      ],
      "metadata": {
        "id": "SWLnvTSKB0xW"
      }
    },
    {
      "cell_type": "code",
      "source": [
        "df['outlet_location_type'].value_counts()"
      ],
      "metadata": {
        "colab": {
          "base_uri": "https://localhost:8080/"
        },
        "id": "Fr0UQ3kAD6CA",
        "outputId": "80b9fdf1-15a0-4ba3-e9e3-c498c038294a"
      },
      "execution_count": 18,
      "outputs": [
        {
          "output_type": "execute_result",
          "data": {
            "text/plain": [
              "Tier 3    3350\n",
              "Tier 2    2785\n",
              "Tier 1    2388\n",
              "Name: outlet_location_type, dtype: int64"
            ]
          },
          "metadata": {},
          "execution_count": 18
        }
      ]
    },
    {
      "cell_type": "code",
      "source": [
        "# Ordinal Category : outlet_size , outlet_loc_type\n",
        "outletsize_labels = ['Small','Medium','Large']\n",
        "outletloctype_labels =['Tier 3','Tier 2','Tier 1']\n",
        "\n",
        "ordered_labels = [outletsize_labels, outletloctype_labels]\n",
        "\n",
        "ordinal = OrdinalEncoder(categories=ordered_labels)"
      ],
      "metadata": {
        "id": "4CZaYOuY3avr"
      },
      "execution_count": 19,
      "outputs": []
    },
    {
      "cell_type": "markdown",
      "source": [
        "#### Pipelines 🚧"
      ],
      "metadata": {
        "id": "wOtzl0IN1wO4"
      }
    },
    {
      "cell_type": "code",
      "source": [
        "number_pipe = make_pipeline(mean_imputer,scaler)\n",
        "ordinal_pipe = make_pipeline(most_freq_imputer,ordinal)\n",
        "nominal_pipe = make_pipeline(most_freq_imputer,ohe)"
      ],
      "metadata": {
        "id": "TYy4el3y3cLZ"
      },
      "execution_count": 20,
      "outputs": []
    },
    {
      "cell_type": "code",
      "source": [
        "# tuples to pair pipeline with columns\n",
        "\n",
        "num_selector = make_column_selector(dtype_include='number')\n",
        "ord_cols = ['outlet_size','outlet_location_type']\n",
        "nom_cols = ['item_fat_content', 'item_type','outlet_type']\n",
        "\n",
        "num_tuple = (number_pipe, num_selector)\n",
        "ord_tuple = (ordinal_pipe, ord_cols)\n",
        "nom_tuple = (nominal_pipe,nom_cols)"
      ],
      "metadata": {
        "id": "kznaryHG3cCe"
      },
      "execution_count": 21,
      "outputs": []
    },
    {
      "cell_type": "markdown",
      "source": [
        "#### Applying  preprocessing to columns 🚧\n"
      ],
      "metadata": {
        "id": "p4zYZCJV1v42"
      }
    },
    {
      "cell_type": "code",
      "source": [
        "preprocessor = make_column_transformer(ord_tuple,\n",
        "                                       nom_tuple,\n",
        "                                       num_tuple,\n",
        "                                       remainder = 'passthrough')"
      ],
      "metadata": {
        "id": "eADxdQUc3c_g"
      },
      "execution_count": 22,
      "outputs": []
    },
    {
      "cell_type": "code",
      "source": [
        "preprocessor"
      ],
      "metadata": {
        "colab": {
          "base_uri": "https://localhost:8080/",
          "height": 152
        },
        "id": "xWCJo7Jc3cxz",
        "outputId": "5bfa92c5-8d80-419b-f620-0c32bd24a500"
      },
      "execution_count": 23,
      "outputs": [
        {
          "output_type": "execute_result",
          "data": {
            "text/plain": [
              "ColumnTransformer(remainder='passthrough',\n",
              "                  transformers=[('pipeline-1',\n",
              "                                 Pipeline(steps=[('simpleimputer',\n",
              "                                                  SimpleImputer(strategy='most_frequent')),\n",
              "                                                 ('ordinalencoder',\n",
              "                                                  OrdinalEncoder(categories=[['Small',\n",
              "                                                                              'Medium',\n",
              "                                                                              'Large'],\n",
              "                                                                             ['Tier '\n",
              "                                                                              '3',\n",
              "                                                                              'Tier '\n",
              "                                                                              '2',\n",
              "                                                                              'Tier '\n",
              "                                                                              '1']]))]),\n",
              "                                 ['outlet_size', 'outlet_location_type']),\n",
              "                                ('pipeline-2',\n",
              "                                 Pipeline(steps=[('simpleimputer',\n",
              "                                                  SimpleImputer(strategy='most_frequent')),\n",
              "                                                 ('onehotencoder',\n",
              "                                                  OneHotEncoder(handle_unknown='ignore',\n",
              "                                                                sparse=False))]),\n",
              "                                 ['item_fat_content', 'item_type',\n",
              "                                  'outlet_type']),\n",
              "                                ('pipeline-3',\n",
              "                                 Pipeline(steps=[('simpleimputer',\n",
              "                                                  SimpleImputer()),\n",
              "                                                 ('standardscaler',\n",
              "                                                  StandardScaler())]),\n",
              "                                 <sklearn.compose._column_transformer.make_column_selector object at 0x7f4d5aef1250>)])"
            ],
            "text/html": [
              "<style>#sk-d5e21b3b-75b4-4aef-a3fb-ddacda3742c8 {color: black;background-color: white;}#sk-d5e21b3b-75b4-4aef-a3fb-ddacda3742c8 pre{padding: 0;}#sk-d5e21b3b-75b4-4aef-a3fb-ddacda3742c8 div.sk-toggleable {background-color: white;}#sk-d5e21b3b-75b4-4aef-a3fb-ddacda3742c8 label.sk-toggleable__label {cursor: pointer;display: block;width: 100%;margin-bottom: 0;padding: 0.3em;box-sizing: border-box;text-align: center;}#sk-d5e21b3b-75b4-4aef-a3fb-ddacda3742c8 label.sk-toggleable__label-arrow:before {content: \"▸\";float: left;margin-right: 0.25em;color: #696969;}#sk-d5e21b3b-75b4-4aef-a3fb-ddacda3742c8 label.sk-toggleable__label-arrow:hover:before {color: black;}#sk-d5e21b3b-75b4-4aef-a3fb-ddacda3742c8 div.sk-estimator:hover label.sk-toggleable__label-arrow:before {color: black;}#sk-d5e21b3b-75b4-4aef-a3fb-ddacda3742c8 div.sk-toggleable__content {max-height: 0;max-width: 0;overflow: hidden;text-align: left;background-color: #f0f8ff;}#sk-d5e21b3b-75b4-4aef-a3fb-ddacda3742c8 div.sk-toggleable__content pre {margin: 0.2em;color: black;border-radius: 0.25em;background-color: #f0f8ff;}#sk-d5e21b3b-75b4-4aef-a3fb-ddacda3742c8 input.sk-toggleable__control:checked~div.sk-toggleable__content {max-height: 200px;max-width: 100%;overflow: auto;}#sk-d5e21b3b-75b4-4aef-a3fb-ddacda3742c8 input.sk-toggleable__control:checked~label.sk-toggleable__label-arrow:before {content: \"▾\";}#sk-d5e21b3b-75b4-4aef-a3fb-ddacda3742c8 div.sk-estimator input.sk-toggleable__control:checked~label.sk-toggleable__label {background-color: #d4ebff;}#sk-d5e21b3b-75b4-4aef-a3fb-ddacda3742c8 div.sk-label input.sk-toggleable__control:checked~label.sk-toggleable__label {background-color: #d4ebff;}#sk-d5e21b3b-75b4-4aef-a3fb-ddacda3742c8 input.sk-hidden--visually {border: 0;clip: rect(1px 1px 1px 1px);clip: rect(1px, 1px, 1px, 1px);height: 1px;margin: -1px;overflow: hidden;padding: 0;position: absolute;width: 1px;}#sk-d5e21b3b-75b4-4aef-a3fb-ddacda3742c8 div.sk-estimator {font-family: monospace;background-color: #f0f8ff;border: 1px dotted black;border-radius: 0.25em;box-sizing: border-box;margin-bottom: 0.5em;}#sk-d5e21b3b-75b4-4aef-a3fb-ddacda3742c8 div.sk-estimator:hover {background-color: #d4ebff;}#sk-d5e21b3b-75b4-4aef-a3fb-ddacda3742c8 div.sk-parallel-item::after {content: \"\";width: 100%;border-bottom: 1px solid gray;flex-grow: 1;}#sk-d5e21b3b-75b4-4aef-a3fb-ddacda3742c8 div.sk-label:hover label.sk-toggleable__label {background-color: #d4ebff;}#sk-d5e21b3b-75b4-4aef-a3fb-ddacda3742c8 div.sk-serial::before {content: \"\";position: absolute;border-left: 1px solid gray;box-sizing: border-box;top: 2em;bottom: 0;left: 50%;}#sk-d5e21b3b-75b4-4aef-a3fb-ddacda3742c8 div.sk-serial {display: flex;flex-direction: column;align-items: center;background-color: white;padding-right: 0.2em;padding-left: 0.2em;}#sk-d5e21b3b-75b4-4aef-a3fb-ddacda3742c8 div.sk-item {z-index: 1;}#sk-d5e21b3b-75b4-4aef-a3fb-ddacda3742c8 div.sk-parallel {display: flex;align-items: stretch;justify-content: center;background-color: white;}#sk-d5e21b3b-75b4-4aef-a3fb-ddacda3742c8 div.sk-parallel::before {content: \"\";position: absolute;border-left: 1px solid gray;box-sizing: border-box;top: 2em;bottom: 0;left: 50%;}#sk-d5e21b3b-75b4-4aef-a3fb-ddacda3742c8 div.sk-parallel-item {display: flex;flex-direction: column;position: relative;background-color: white;}#sk-d5e21b3b-75b4-4aef-a3fb-ddacda3742c8 div.sk-parallel-item:first-child::after {align-self: flex-end;width: 50%;}#sk-d5e21b3b-75b4-4aef-a3fb-ddacda3742c8 div.sk-parallel-item:last-child::after {align-self: flex-start;width: 50%;}#sk-d5e21b3b-75b4-4aef-a3fb-ddacda3742c8 div.sk-parallel-item:only-child::after {width: 0;}#sk-d5e21b3b-75b4-4aef-a3fb-ddacda3742c8 div.sk-dashed-wrapped {border: 1px dashed gray;margin: 0 0.4em 0.5em 0.4em;box-sizing: border-box;padding-bottom: 0.4em;background-color: white;position: relative;}#sk-d5e21b3b-75b4-4aef-a3fb-ddacda3742c8 div.sk-label label {font-family: monospace;font-weight: bold;background-color: white;display: inline-block;line-height: 1.2em;}#sk-d5e21b3b-75b4-4aef-a3fb-ddacda3742c8 div.sk-label-container {position: relative;z-index: 2;text-align: center;}#sk-d5e21b3b-75b4-4aef-a3fb-ddacda3742c8 div.sk-container {/* jupyter's `normalize.less` sets `[hidden] { display: none; }` but bootstrap.min.css set `[hidden] { display: none !important; }` so we also need the `!important` here to be able to override the default hidden behavior on the sphinx rendered scikit-learn.org. See: https://github.com/scikit-learn/scikit-learn/issues/21755 */display: inline-block !important;position: relative;}#sk-d5e21b3b-75b4-4aef-a3fb-ddacda3742c8 div.sk-text-repr-fallback {display: none;}</style><div id=\"sk-d5e21b3b-75b4-4aef-a3fb-ddacda3742c8\" class=\"sk-top-container\"><div class=\"sk-text-repr-fallback\"><pre>ColumnTransformer(remainder=&#x27;passthrough&#x27;,\n",
              "                  transformers=[(&#x27;pipeline-1&#x27;,\n",
              "                                 Pipeline(steps=[(&#x27;simpleimputer&#x27;,\n",
              "                                                  SimpleImputer(strategy=&#x27;most_frequent&#x27;)),\n",
              "                                                 (&#x27;ordinalencoder&#x27;,\n",
              "                                                  OrdinalEncoder(categories=[[&#x27;Small&#x27;,\n",
              "                                                                              &#x27;Medium&#x27;,\n",
              "                                                                              &#x27;Large&#x27;],\n",
              "                                                                             [&#x27;Tier &#x27;\n",
              "                                                                              &#x27;3&#x27;,\n",
              "                                                                              &#x27;Tier &#x27;\n",
              "                                                                              &#x27;2&#x27;,\n",
              "                                                                              &#x27;Tier &#x27;\n",
              "                                                                              &#x27;1&#x27;]]))]),\n",
              "                                 [&#x27;outlet_size&#x27;, &#x27;outlet_location_type&#x27;]),\n",
              "                                (&#x27;pipeline-2&#x27;,\n",
              "                                 Pipeline(steps=[(&#x27;simpleimputer&#x27;,\n",
              "                                                  SimpleImputer(strategy=&#x27;most_frequent&#x27;)),\n",
              "                                                 (&#x27;onehotencoder&#x27;,\n",
              "                                                  OneHotEncoder(handle_unknown=&#x27;ignore&#x27;,\n",
              "                                                                sparse=False))]),\n",
              "                                 [&#x27;item_fat_content&#x27;, &#x27;item_type&#x27;,\n",
              "                                  &#x27;outlet_type&#x27;]),\n",
              "                                (&#x27;pipeline-3&#x27;,\n",
              "                                 Pipeline(steps=[(&#x27;simpleimputer&#x27;,\n",
              "                                                  SimpleImputer()),\n",
              "                                                 (&#x27;standardscaler&#x27;,\n",
              "                                                  StandardScaler())]),\n",
              "                                 &lt;sklearn.compose._column_transformer.make_column_selector object at 0x7f4d5aef1250&gt;)])</pre><b>Please rerun this cell to show the HTML repr or trust the notebook.</b></div><div class=\"sk-container\" hidden><div class=\"sk-item sk-dashed-wrapped\"><div class=\"sk-label-container\"><div class=\"sk-label sk-toggleable\"><input class=\"sk-toggleable__control sk-hidden--visually\" id=\"d54f0f62-6c2c-4b62-b149-3337a1858b5f\" type=\"checkbox\" ><label for=\"d54f0f62-6c2c-4b62-b149-3337a1858b5f\" class=\"sk-toggleable__label sk-toggleable__label-arrow\">ColumnTransformer</label><div class=\"sk-toggleable__content\"><pre>ColumnTransformer(remainder=&#x27;passthrough&#x27;,\n",
              "                  transformers=[(&#x27;pipeline-1&#x27;,\n",
              "                                 Pipeline(steps=[(&#x27;simpleimputer&#x27;,\n",
              "                                                  SimpleImputer(strategy=&#x27;most_frequent&#x27;)),\n",
              "                                                 (&#x27;ordinalencoder&#x27;,\n",
              "                                                  OrdinalEncoder(categories=[[&#x27;Small&#x27;,\n",
              "                                                                              &#x27;Medium&#x27;,\n",
              "                                                                              &#x27;Large&#x27;],\n",
              "                                                                             [&#x27;Tier &#x27;\n",
              "                                                                              &#x27;3&#x27;,\n",
              "                                                                              &#x27;Tier &#x27;\n",
              "                                                                              &#x27;2&#x27;,\n",
              "                                                                              &#x27;Tier &#x27;\n",
              "                                                                              &#x27;1&#x27;]]))]),\n",
              "                                 [&#x27;outlet_size&#x27;, &#x27;outlet_location_type&#x27;]),\n",
              "                                (&#x27;pipeline-2&#x27;,\n",
              "                                 Pipeline(steps=[(&#x27;simpleimputer&#x27;,\n",
              "                                                  SimpleImputer(strategy=&#x27;most_frequent&#x27;)),\n",
              "                                                 (&#x27;onehotencoder&#x27;,\n",
              "                                                  OneHotEncoder(handle_unknown=&#x27;ignore&#x27;,\n",
              "                                                                sparse=False))]),\n",
              "                                 [&#x27;item_fat_content&#x27;, &#x27;item_type&#x27;,\n",
              "                                  &#x27;outlet_type&#x27;]),\n",
              "                                (&#x27;pipeline-3&#x27;,\n",
              "                                 Pipeline(steps=[(&#x27;simpleimputer&#x27;,\n",
              "                                                  SimpleImputer()),\n",
              "                                                 (&#x27;standardscaler&#x27;,\n",
              "                                                  StandardScaler())]),\n",
              "                                 &lt;sklearn.compose._column_transformer.make_column_selector object at 0x7f4d5aef1250&gt;)])</pre></div></div></div><div class=\"sk-parallel\"><div class=\"sk-parallel-item\"><div class=\"sk-item\"><div class=\"sk-label-container\"><div class=\"sk-label sk-toggleable\"><input class=\"sk-toggleable__control sk-hidden--visually\" id=\"ed3f96f8-e3d5-4c39-89cf-193d2aa857e2\" type=\"checkbox\" ><label for=\"ed3f96f8-e3d5-4c39-89cf-193d2aa857e2\" class=\"sk-toggleable__label sk-toggleable__label-arrow\">pipeline-1</label><div class=\"sk-toggleable__content\"><pre>[&#x27;outlet_size&#x27;, &#x27;outlet_location_type&#x27;]</pre></div></div></div><div class=\"sk-serial\"><div class=\"sk-item\"><div class=\"sk-serial\"><div class=\"sk-item\"><div class=\"sk-estimator sk-toggleable\"><input class=\"sk-toggleable__control sk-hidden--visually\" id=\"b117f66b-399b-4a15-b5d5-a1d54fd1cad6\" type=\"checkbox\" ><label for=\"b117f66b-399b-4a15-b5d5-a1d54fd1cad6\" class=\"sk-toggleable__label sk-toggleable__label-arrow\">SimpleImputer</label><div class=\"sk-toggleable__content\"><pre>SimpleImputer(strategy=&#x27;most_frequent&#x27;)</pre></div></div></div><div class=\"sk-item\"><div class=\"sk-estimator sk-toggleable\"><input class=\"sk-toggleable__control sk-hidden--visually\" id=\"1418a9a5-98e0-4b09-9abd-49134d66043d\" type=\"checkbox\" ><label for=\"1418a9a5-98e0-4b09-9abd-49134d66043d\" class=\"sk-toggleable__label sk-toggleable__label-arrow\">OrdinalEncoder</label><div class=\"sk-toggleable__content\"><pre>OrdinalEncoder(categories=[[&#x27;Small&#x27;, &#x27;Medium&#x27;, &#x27;Large&#x27;],\n",
              "                           [&#x27;Tier 3&#x27;, &#x27;Tier 2&#x27;, &#x27;Tier 1&#x27;]])</pre></div></div></div></div></div></div></div></div><div class=\"sk-parallel-item\"><div class=\"sk-item\"><div class=\"sk-label-container\"><div class=\"sk-label sk-toggleable\"><input class=\"sk-toggleable__control sk-hidden--visually\" id=\"988c6dee-0d36-40f7-a8e2-31335c65450e\" type=\"checkbox\" ><label for=\"988c6dee-0d36-40f7-a8e2-31335c65450e\" class=\"sk-toggleable__label sk-toggleable__label-arrow\">pipeline-2</label><div class=\"sk-toggleable__content\"><pre>[&#x27;item_fat_content&#x27;, &#x27;item_type&#x27;, &#x27;outlet_type&#x27;]</pre></div></div></div><div class=\"sk-serial\"><div class=\"sk-item\"><div class=\"sk-serial\"><div class=\"sk-item\"><div class=\"sk-estimator sk-toggleable\"><input class=\"sk-toggleable__control sk-hidden--visually\" id=\"c0cae8e0-cac1-4412-bfe8-8c4a1a1a6617\" type=\"checkbox\" ><label for=\"c0cae8e0-cac1-4412-bfe8-8c4a1a1a6617\" class=\"sk-toggleable__label sk-toggleable__label-arrow\">SimpleImputer</label><div class=\"sk-toggleable__content\"><pre>SimpleImputer(strategy=&#x27;most_frequent&#x27;)</pre></div></div></div><div class=\"sk-item\"><div class=\"sk-estimator sk-toggleable\"><input class=\"sk-toggleable__control sk-hidden--visually\" id=\"7edbd142-c860-455e-bdae-0f4265b9a248\" type=\"checkbox\" ><label for=\"7edbd142-c860-455e-bdae-0f4265b9a248\" class=\"sk-toggleable__label sk-toggleable__label-arrow\">OneHotEncoder</label><div class=\"sk-toggleable__content\"><pre>OneHotEncoder(handle_unknown=&#x27;ignore&#x27;, sparse=False)</pre></div></div></div></div></div></div></div></div><div class=\"sk-parallel-item\"><div class=\"sk-item\"><div class=\"sk-label-container\"><div class=\"sk-label sk-toggleable\"><input class=\"sk-toggleable__control sk-hidden--visually\" id=\"de50522c-9ddd-472b-8eb7-8f6aed916bce\" type=\"checkbox\" ><label for=\"de50522c-9ddd-472b-8eb7-8f6aed916bce\" class=\"sk-toggleable__label sk-toggleable__label-arrow\">pipeline-3</label><div class=\"sk-toggleable__content\"><pre>&lt;sklearn.compose._column_transformer.make_column_selector object at 0x7f4d5aef1250&gt;</pre></div></div></div><div class=\"sk-serial\"><div class=\"sk-item\"><div class=\"sk-serial\"><div class=\"sk-item\"><div class=\"sk-estimator sk-toggleable\"><input class=\"sk-toggleable__control sk-hidden--visually\" id=\"90e36aad-4220-4b80-8868-0b983ad43aa8\" type=\"checkbox\" ><label for=\"90e36aad-4220-4b80-8868-0b983ad43aa8\" class=\"sk-toggleable__label sk-toggleable__label-arrow\">SimpleImputer</label><div class=\"sk-toggleable__content\"><pre>SimpleImputer()</pre></div></div></div><div class=\"sk-item\"><div class=\"sk-estimator sk-toggleable\"><input class=\"sk-toggleable__control sk-hidden--visually\" id=\"3db5c936-1918-44a0-a7a3-1e2b6a86a878\" type=\"checkbox\" ><label for=\"3db5c936-1918-44a0-a7a3-1e2b6a86a878\" class=\"sk-toggleable__label sk-toggleable__label-arrow\">StandardScaler</label><div class=\"sk-toggleable__content\"><pre>StandardScaler()</pre></div></div></div></div></div></div></div></div><div class=\"sk-parallel-item\"><div class=\"sk-item\"><div class=\"sk-label-container\"><div class=\"sk-label sk-toggleable\"><input class=\"sk-toggleable__control sk-hidden--visually\" id=\"3e12f66f-a138-47d8-a200-b1abc7df430a\" type=\"checkbox\" ><label for=\"3e12f66f-a138-47d8-a200-b1abc7df430a\" class=\"sk-toggleable__label sk-toggleable__label-arrow\">remainder</label><div class=\"sk-toggleable__content\"><pre></pre></div></div></div><div class=\"sk-serial\"><div class=\"sk-item\"><div class=\"sk-estimator sk-toggleable\"><input class=\"sk-toggleable__control sk-hidden--visually\" id=\"25e2bc99-1b02-4743-aefa-33b771c9d1ac\" type=\"checkbox\" ><label for=\"25e2bc99-1b02-4743-aefa-33b771c9d1ac\" class=\"sk-toggleable__label sk-toggleable__label-arrow\">passthrough</label><div class=\"sk-toggleable__content\"><pre>passthrough</pre></div></div></div></div></div></div></div></div></div></div>"
            ]
          },
          "metadata": {},
          "execution_count": 23
        }
      ]
    },
    {
      "cell_type": "markdown",
      "source": [
        "#### Fit Transformer on the Training Data"
      ],
      "metadata": {
        "id": "iYZt-k512Xqd"
      }
    },
    {
      "cell_type": "code",
      "source": [
        "preprocessor.fit(X_train)"
      ],
      "metadata": {
        "colab": {
          "base_uri": "https://localhost:8080/",
          "height": 152
        },
        "id": "v8pUpAft1NGa",
        "outputId": "452bdfcf-05af-46f5-ad71-3101c2505c11"
      },
      "execution_count": 24,
      "outputs": [
        {
          "output_type": "execute_result",
          "data": {
            "text/plain": [
              "ColumnTransformer(remainder='passthrough',\n",
              "                  transformers=[('pipeline-1',\n",
              "                                 Pipeline(steps=[('simpleimputer',\n",
              "                                                  SimpleImputer(strategy='most_frequent')),\n",
              "                                                 ('ordinalencoder',\n",
              "                                                  OrdinalEncoder(categories=[['Small',\n",
              "                                                                              'Medium',\n",
              "                                                                              'Large'],\n",
              "                                                                             ['Tier '\n",
              "                                                                              '3',\n",
              "                                                                              'Tier '\n",
              "                                                                              '2',\n",
              "                                                                              'Tier '\n",
              "                                                                              '1']]))]),\n",
              "                                 ['outlet_size', 'outlet_location_type']),\n",
              "                                ('pipeline-2',\n",
              "                                 Pipeline(steps=[('simpleimputer',\n",
              "                                                  SimpleImputer(strategy='most_frequent')),\n",
              "                                                 ('onehotencoder',\n",
              "                                                  OneHotEncoder(handle_unknown='ignore',\n",
              "                                                                sparse=False))]),\n",
              "                                 ['item_fat_content', 'item_type',\n",
              "                                  'outlet_type']),\n",
              "                                ('pipeline-3',\n",
              "                                 Pipeline(steps=[('simpleimputer',\n",
              "                                                  SimpleImputer()),\n",
              "                                                 ('standardscaler',\n",
              "                                                  StandardScaler())]),\n",
              "                                 <sklearn.compose._column_transformer.make_column_selector object at 0x7f4d5aef1250>)])"
            ],
            "text/html": [
              "<style>#sk-e8193288-3db2-48a3-bc14-b9e29492f550 {color: black;background-color: white;}#sk-e8193288-3db2-48a3-bc14-b9e29492f550 pre{padding: 0;}#sk-e8193288-3db2-48a3-bc14-b9e29492f550 div.sk-toggleable {background-color: white;}#sk-e8193288-3db2-48a3-bc14-b9e29492f550 label.sk-toggleable__label {cursor: pointer;display: block;width: 100%;margin-bottom: 0;padding: 0.3em;box-sizing: border-box;text-align: center;}#sk-e8193288-3db2-48a3-bc14-b9e29492f550 label.sk-toggleable__label-arrow:before {content: \"▸\";float: left;margin-right: 0.25em;color: #696969;}#sk-e8193288-3db2-48a3-bc14-b9e29492f550 label.sk-toggleable__label-arrow:hover:before {color: black;}#sk-e8193288-3db2-48a3-bc14-b9e29492f550 div.sk-estimator:hover label.sk-toggleable__label-arrow:before {color: black;}#sk-e8193288-3db2-48a3-bc14-b9e29492f550 div.sk-toggleable__content {max-height: 0;max-width: 0;overflow: hidden;text-align: left;background-color: #f0f8ff;}#sk-e8193288-3db2-48a3-bc14-b9e29492f550 div.sk-toggleable__content pre {margin: 0.2em;color: black;border-radius: 0.25em;background-color: #f0f8ff;}#sk-e8193288-3db2-48a3-bc14-b9e29492f550 input.sk-toggleable__control:checked~div.sk-toggleable__content {max-height: 200px;max-width: 100%;overflow: auto;}#sk-e8193288-3db2-48a3-bc14-b9e29492f550 input.sk-toggleable__control:checked~label.sk-toggleable__label-arrow:before {content: \"▾\";}#sk-e8193288-3db2-48a3-bc14-b9e29492f550 div.sk-estimator input.sk-toggleable__control:checked~label.sk-toggleable__label {background-color: #d4ebff;}#sk-e8193288-3db2-48a3-bc14-b9e29492f550 div.sk-label input.sk-toggleable__control:checked~label.sk-toggleable__label {background-color: #d4ebff;}#sk-e8193288-3db2-48a3-bc14-b9e29492f550 input.sk-hidden--visually {border: 0;clip: rect(1px 1px 1px 1px);clip: rect(1px, 1px, 1px, 1px);height: 1px;margin: -1px;overflow: hidden;padding: 0;position: absolute;width: 1px;}#sk-e8193288-3db2-48a3-bc14-b9e29492f550 div.sk-estimator {font-family: monospace;background-color: #f0f8ff;border: 1px dotted black;border-radius: 0.25em;box-sizing: border-box;margin-bottom: 0.5em;}#sk-e8193288-3db2-48a3-bc14-b9e29492f550 div.sk-estimator:hover {background-color: #d4ebff;}#sk-e8193288-3db2-48a3-bc14-b9e29492f550 div.sk-parallel-item::after {content: \"\";width: 100%;border-bottom: 1px solid gray;flex-grow: 1;}#sk-e8193288-3db2-48a3-bc14-b9e29492f550 div.sk-label:hover label.sk-toggleable__label {background-color: #d4ebff;}#sk-e8193288-3db2-48a3-bc14-b9e29492f550 div.sk-serial::before {content: \"\";position: absolute;border-left: 1px solid gray;box-sizing: border-box;top: 2em;bottom: 0;left: 50%;}#sk-e8193288-3db2-48a3-bc14-b9e29492f550 div.sk-serial {display: flex;flex-direction: column;align-items: center;background-color: white;padding-right: 0.2em;padding-left: 0.2em;}#sk-e8193288-3db2-48a3-bc14-b9e29492f550 div.sk-item {z-index: 1;}#sk-e8193288-3db2-48a3-bc14-b9e29492f550 div.sk-parallel {display: flex;align-items: stretch;justify-content: center;background-color: white;}#sk-e8193288-3db2-48a3-bc14-b9e29492f550 div.sk-parallel::before {content: \"\";position: absolute;border-left: 1px solid gray;box-sizing: border-box;top: 2em;bottom: 0;left: 50%;}#sk-e8193288-3db2-48a3-bc14-b9e29492f550 div.sk-parallel-item {display: flex;flex-direction: column;position: relative;background-color: white;}#sk-e8193288-3db2-48a3-bc14-b9e29492f550 div.sk-parallel-item:first-child::after {align-self: flex-end;width: 50%;}#sk-e8193288-3db2-48a3-bc14-b9e29492f550 div.sk-parallel-item:last-child::after {align-self: flex-start;width: 50%;}#sk-e8193288-3db2-48a3-bc14-b9e29492f550 div.sk-parallel-item:only-child::after {width: 0;}#sk-e8193288-3db2-48a3-bc14-b9e29492f550 div.sk-dashed-wrapped {border: 1px dashed gray;margin: 0 0.4em 0.5em 0.4em;box-sizing: border-box;padding-bottom: 0.4em;background-color: white;position: relative;}#sk-e8193288-3db2-48a3-bc14-b9e29492f550 div.sk-label label {font-family: monospace;font-weight: bold;background-color: white;display: inline-block;line-height: 1.2em;}#sk-e8193288-3db2-48a3-bc14-b9e29492f550 div.sk-label-container {position: relative;z-index: 2;text-align: center;}#sk-e8193288-3db2-48a3-bc14-b9e29492f550 div.sk-container {/* jupyter's `normalize.less` sets `[hidden] { display: none; }` but bootstrap.min.css set `[hidden] { display: none !important; }` so we also need the `!important` here to be able to override the default hidden behavior on the sphinx rendered scikit-learn.org. See: https://github.com/scikit-learn/scikit-learn/issues/21755 */display: inline-block !important;position: relative;}#sk-e8193288-3db2-48a3-bc14-b9e29492f550 div.sk-text-repr-fallback {display: none;}</style><div id=\"sk-e8193288-3db2-48a3-bc14-b9e29492f550\" class=\"sk-top-container\"><div class=\"sk-text-repr-fallback\"><pre>ColumnTransformer(remainder=&#x27;passthrough&#x27;,\n",
              "                  transformers=[(&#x27;pipeline-1&#x27;,\n",
              "                                 Pipeline(steps=[(&#x27;simpleimputer&#x27;,\n",
              "                                                  SimpleImputer(strategy=&#x27;most_frequent&#x27;)),\n",
              "                                                 (&#x27;ordinalencoder&#x27;,\n",
              "                                                  OrdinalEncoder(categories=[[&#x27;Small&#x27;,\n",
              "                                                                              &#x27;Medium&#x27;,\n",
              "                                                                              &#x27;Large&#x27;],\n",
              "                                                                             [&#x27;Tier &#x27;\n",
              "                                                                              &#x27;3&#x27;,\n",
              "                                                                              &#x27;Tier &#x27;\n",
              "                                                                              &#x27;2&#x27;,\n",
              "                                                                              &#x27;Tier &#x27;\n",
              "                                                                              &#x27;1&#x27;]]))]),\n",
              "                                 [&#x27;outlet_size&#x27;, &#x27;outlet_location_type&#x27;]),\n",
              "                                (&#x27;pipeline-2&#x27;,\n",
              "                                 Pipeline(steps=[(&#x27;simpleimputer&#x27;,\n",
              "                                                  SimpleImputer(strategy=&#x27;most_frequent&#x27;)),\n",
              "                                                 (&#x27;onehotencoder&#x27;,\n",
              "                                                  OneHotEncoder(handle_unknown=&#x27;ignore&#x27;,\n",
              "                                                                sparse=False))]),\n",
              "                                 [&#x27;item_fat_content&#x27;, &#x27;item_type&#x27;,\n",
              "                                  &#x27;outlet_type&#x27;]),\n",
              "                                (&#x27;pipeline-3&#x27;,\n",
              "                                 Pipeline(steps=[(&#x27;simpleimputer&#x27;,\n",
              "                                                  SimpleImputer()),\n",
              "                                                 (&#x27;standardscaler&#x27;,\n",
              "                                                  StandardScaler())]),\n",
              "                                 &lt;sklearn.compose._column_transformer.make_column_selector object at 0x7f4d5aef1250&gt;)])</pre><b>Please rerun this cell to show the HTML repr or trust the notebook.</b></div><div class=\"sk-container\" hidden><div class=\"sk-item sk-dashed-wrapped\"><div class=\"sk-label-container\"><div class=\"sk-label sk-toggleable\"><input class=\"sk-toggleable__control sk-hidden--visually\" id=\"299803a1-ebff-4ad0-ba5f-6ea8f85beebc\" type=\"checkbox\" ><label for=\"299803a1-ebff-4ad0-ba5f-6ea8f85beebc\" class=\"sk-toggleable__label sk-toggleable__label-arrow\">ColumnTransformer</label><div class=\"sk-toggleable__content\"><pre>ColumnTransformer(remainder=&#x27;passthrough&#x27;,\n",
              "                  transformers=[(&#x27;pipeline-1&#x27;,\n",
              "                                 Pipeline(steps=[(&#x27;simpleimputer&#x27;,\n",
              "                                                  SimpleImputer(strategy=&#x27;most_frequent&#x27;)),\n",
              "                                                 (&#x27;ordinalencoder&#x27;,\n",
              "                                                  OrdinalEncoder(categories=[[&#x27;Small&#x27;,\n",
              "                                                                              &#x27;Medium&#x27;,\n",
              "                                                                              &#x27;Large&#x27;],\n",
              "                                                                             [&#x27;Tier &#x27;\n",
              "                                                                              &#x27;3&#x27;,\n",
              "                                                                              &#x27;Tier &#x27;\n",
              "                                                                              &#x27;2&#x27;,\n",
              "                                                                              &#x27;Tier &#x27;\n",
              "                                                                              &#x27;1&#x27;]]))]),\n",
              "                                 [&#x27;outlet_size&#x27;, &#x27;outlet_location_type&#x27;]),\n",
              "                                (&#x27;pipeline-2&#x27;,\n",
              "                                 Pipeline(steps=[(&#x27;simpleimputer&#x27;,\n",
              "                                                  SimpleImputer(strategy=&#x27;most_frequent&#x27;)),\n",
              "                                                 (&#x27;onehotencoder&#x27;,\n",
              "                                                  OneHotEncoder(handle_unknown=&#x27;ignore&#x27;,\n",
              "                                                                sparse=False))]),\n",
              "                                 [&#x27;item_fat_content&#x27;, &#x27;item_type&#x27;,\n",
              "                                  &#x27;outlet_type&#x27;]),\n",
              "                                (&#x27;pipeline-3&#x27;,\n",
              "                                 Pipeline(steps=[(&#x27;simpleimputer&#x27;,\n",
              "                                                  SimpleImputer()),\n",
              "                                                 (&#x27;standardscaler&#x27;,\n",
              "                                                  StandardScaler())]),\n",
              "                                 &lt;sklearn.compose._column_transformer.make_column_selector object at 0x7f4d5aef1250&gt;)])</pre></div></div></div><div class=\"sk-parallel\"><div class=\"sk-parallel-item\"><div class=\"sk-item\"><div class=\"sk-label-container\"><div class=\"sk-label sk-toggleable\"><input class=\"sk-toggleable__control sk-hidden--visually\" id=\"4f254565-1940-4cc8-b5ba-90c8a9004435\" type=\"checkbox\" ><label for=\"4f254565-1940-4cc8-b5ba-90c8a9004435\" class=\"sk-toggleable__label sk-toggleable__label-arrow\">pipeline-1</label><div class=\"sk-toggleable__content\"><pre>[&#x27;outlet_size&#x27;, &#x27;outlet_location_type&#x27;]</pre></div></div></div><div class=\"sk-serial\"><div class=\"sk-item\"><div class=\"sk-serial\"><div class=\"sk-item\"><div class=\"sk-estimator sk-toggleable\"><input class=\"sk-toggleable__control sk-hidden--visually\" id=\"62c240d5-2560-4367-bc61-19820053acf3\" type=\"checkbox\" ><label for=\"62c240d5-2560-4367-bc61-19820053acf3\" class=\"sk-toggleable__label sk-toggleable__label-arrow\">SimpleImputer</label><div class=\"sk-toggleable__content\"><pre>SimpleImputer(strategy=&#x27;most_frequent&#x27;)</pre></div></div></div><div class=\"sk-item\"><div class=\"sk-estimator sk-toggleable\"><input class=\"sk-toggleable__control sk-hidden--visually\" id=\"173928cc-e30a-4481-93a6-8b1840a337b1\" type=\"checkbox\" ><label for=\"173928cc-e30a-4481-93a6-8b1840a337b1\" class=\"sk-toggleable__label sk-toggleable__label-arrow\">OrdinalEncoder</label><div class=\"sk-toggleable__content\"><pre>OrdinalEncoder(categories=[[&#x27;Small&#x27;, &#x27;Medium&#x27;, &#x27;Large&#x27;],\n",
              "                           [&#x27;Tier 3&#x27;, &#x27;Tier 2&#x27;, &#x27;Tier 1&#x27;]])</pre></div></div></div></div></div></div></div></div><div class=\"sk-parallel-item\"><div class=\"sk-item\"><div class=\"sk-label-container\"><div class=\"sk-label sk-toggleable\"><input class=\"sk-toggleable__control sk-hidden--visually\" id=\"d5c4de54-c9c4-4403-bf04-9dd1d22ba419\" type=\"checkbox\" ><label for=\"d5c4de54-c9c4-4403-bf04-9dd1d22ba419\" class=\"sk-toggleable__label sk-toggleable__label-arrow\">pipeline-2</label><div class=\"sk-toggleable__content\"><pre>[&#x27;item_fat_content&#x27;, &#x27;item_type&#x27;, &#x27;outlet_type&#x27;]</pre></div></div></div><div class=\"sk-serial\"><div class=\"sk-item\"><div class=\"sk-serial\"><div class=\"sk-item\"><div class=\"sk-estimator sk-toggleable\"><input class=\"sk-toggleable__control sk-hidden--visually\" id=\"fdd3a730-21a0-470d-ad86-82bac8ef3ecc\" type=\"checkbox\" ><label for=\"fdd3a730-21a0-470d-ad86-82bac8ef3ecc\" class=\"sk-toggleable__label sk-toggleable__label-arrow\">SimpleImputer</label><div class=\"sk-toggleable__content\"><pre>SimpleImputer(strategy=&#x27;most_frequent&#x27;)</pre></div></div></div><div class=\"sk-item\"><div class=\"sk-estimator sk-toggleable\"><input class=\"sk-toggleable__control sk-hidden--visually\" id=\"d348dd4e-d4b7-4c27-bc74-fe2b29498ff4\" type=\"checkbox\" ><label for=\"d348dd4e-d4b7-4c27-bc74-fe2b29498ff4\" class=\"sk-toggleable__label sk-toggleable__label-arrow\">OneHotEncoder</label><div class=\"sk-toggleable__content\"><pre>OneHotEncoder(handle_unknown=&#x27;ignore&#x27;, sparse=False)</pre></div></div></div></div></div></div></div></div><div class=\"sk-parallel-item\"><div class=\"sk-item\"><div class=\"sk-label-container\"><div class=\"sk-label sk-toggleable\"><input class=\"sk-toggleable__control sk-hidden--visually\" id=\"aec8d406-ce55-4a11-8706-c9b9a6ab4491\" type=\"checkbox\" ><label for=\"aec8d406-ce55-4a11-8706-c9b9a6ab4491\" class=\"sk-toggleable__label sk-toggleable__label-arrow\">pipeline-3</label><div class=\"sk-toggleable__content\"><pre>&lt;sklearn.compose._column_transformer.make_column_selector object at 0x7f4d5aef1250&gt;</pre></div></div></div><div class=\"sk-serial\"><div class=\"sk-item\"><div class=\"sk-serial\"><div class=\"sk-item\"><div class=\"sk-estimator sk-toggleable\"><input class=\"sk-toggleable__control sk-hidden--visually\" id=\"49911792-70ec-4a65-8ce6-e4355cc1c4ac\" type=\"checkbox\" ><label for=\"49911792-70ec-4a65-8ce6-e4355cc1c4ac\" class=\"sk-toggleable__label sk-toggleable__label-arrow\">SimpleImputer</label><div class=\"sk-toggleable__content\"><pre>SimpleImputer()</pre></div></div></div><div class=\"sk-item\"><div class=\"sk-estimator sk-toggleable\"><input class=\"sk-toggleable__control sk-hidden--visually\" id=\"04fe7fb2-debb-4e32-b319-f2093e8338e3\" type=\"checkbox\" ><label for=\"04fe7fb2-debb-4e32-b319-f2093e8338e3\" class=\"sk-toggleable__label sk-toggleable__label-arrow\">StandardScaler</label><div class=\"sk-toggleable__content\"><pre>StandardScaler()</pre></div></div></div></div></div></div></div></div><div class=\"sk-parallel-item\"><div class=\"sk-item\"><div class=\"sk-label-container\"><div class=\"sk-label sk-toggleable\"><input class=\"sk-toggleable__control sk-hidden--visually\" id=\"38e7909b-3a4f-44ba-a171-100c6dfd539b\" type=\"checkbox\" ><label for=\"38e7909b-3a4f-44ba-a171-100c6dfd539b\" class=\"sk-toggleable__label sk-toggleable__label-arrow\">remainder</label><div class=\"sk-toggleable__content\"><pre>[&#x27;item_identifier&#x27;, &#x27;outlet_identifier&#x27;]</pre></div></div></div><div class=\"sk-serial\"><div class=\"sk-item\"><div class=\"sk-estimator sk-toggleable\"><input class=\"sk-toggleable__control sk-hidden--visually\" id=\"7b8239fa-3404-49c5-afdd-0542aa3d3f28\" type=\"checkbox\" ><label for=\"7b8239fa-3404-49c5-afdd-0542aa3d3f28\" class=\"sk-toggleable__label sk-toggleable__label-arrow\">passthrough</label><div class=\"sk-toggleable__content\"><pre>passthrough</pre></div></div></div></div></div></div></div></div></div></div>"
            ]
          },
          "metadata": {},
          "execution_count": 24
        }
      ]
    },
    {
      "cell_type": "code",
      "source": [
        "X_train_processed = preprocessor.transform(X_train)\n",
        "X_test_processed = preprocessor.transform(X_test)"
      ],
      "metadata": {
        "id": "0AKKkt723dtp"
      },
      "execution_count": 25,
      "outputs": []
    },
    {
      "cell_type": "code",
      "source": [
        "X_train_df = pd.DataFrame(X_train_processed)\n",
        "display(X_train_df.head())\n",
        "X_train_df.info()"
      ],
      "metadata": {
        "colab": {
          "base_uri": "https://localhost:8080/",
          "height": 878
        },
        "id": "u5XbRd233dib",
        "outputId": "9779ef99-faf4-4282-a46c-b8fd3ec8bca6"
      },
      "execution_count": 26,
      "outputs": [
        {
          "output_type": "display_data",
          "data": {
            "text/plain": [
              "    0    1    2    3    4    5    6    7    8    9   ...   20   21   22   23  \\\n",
              "0  1.0  0.0  1.0  0.0  0.0  0.0  0.0  0.0  0.0  0.0  ...  0.0  0.0  1.0  0.0   \n",
              "1  1.0  0.0  0.0  1.0  0.0  0.0  0.0  0.0  0.0  0.0  ...  0.0  0.0  1.0  0.0   \n",
              "2  1.0  2.0  0.0  1.0  0.0  0.0  0.0  0.0  0.0  0.0  ...  0.0  1.0  0.0  0.0   \n",
              "3  0.0  1.0  1.0  0.0  1.0  0.0  0.0  0.0  0.0  0.0  ...  0.0  1.0  0.0  0.0   \n",
              "4  1.0  1.0  1.0  0.0  0.0  0.0  0.0  0.0  0.0  1.0  ...  0.0  1.0  0.0  0.0   \n",
              "\n",
              "         24        25        26        27     28      29  \n",
              "0  0.817249 -0.712775  1.828109  1.327849  NCG06  OUT018  \n",
              "1   0.55634 -1.291052  0.603369  1.327849  FDV57  OUT018  \n",
              "2 -0.131512  1.813319  0.244541  0.136187  FDM27  OUT049  \n",
              "3 -1.169219 -1.004931 -0.952591  0.732018  FDG24  OUT035  \n",
              "4  1.528819 -0.965484  -0.33646  0.493686  FDD05  OUT045  \n",
              "\n",
              "[5 rows x 30 columns]"
            ],
            "text/html": [
              "\n",
              "  <div id=\"df-c58ec037-9f77-4b5d-9211-f13619c5a2a0\">\n",
              "    <div class=\"colab-df-container\">\n",
              "      <div>\n",
              "<style scoped>\n",
              "    .dataframe tbody tr th:only-of-type {\n",
              "        vertical-align: middle;\n",
              "    }\n",
              "\n",
              "    .dataframe tbody tr th {\n",
              "        vertical-align: top;\n",
              "    }\n",
              "\n",
              "    .dataframe thead th {\n",
              "        text-align: right;\n",
              "    }\n",
              "</style>\n",
              "<table border=\"1\" class=\"dataframe\">\n",
              "  <thead>\n",
              "    <tr style=\"text-align: right;\">\n",
              "      <th></th>\n",
              "      <th>0</th>\n",
              "      <th>1</th>\n",
              "      <th>2</th>\n",
              "      <th>3</th>\n",
              "      <th>4</th>\n",
              "      <th>5</th>\n",
              "      <th>6</th>\n",
              "      <th>7</th>\n",
              "      <th>8</th>\n",
              "      <th>9</th>\n",
              "      <th>...</th>\n",
              "      <th>20</th>\n",
              "      <th>21</th>\n",
              "      <th>22</th>\n",
              "      <th>23</th>\n",
              "      <th>24</th>\n",
              "      <th>25</th>\n",
              "      <th>26</th>\n",
              "      <th>27</th>\n",
              "      <th>28</th>\n",
              "      <th>29</th>\n",
              "    </tr>\n",
              "  </thead>\n",
              "  <tbody>\n",
              "    <tr>\n",
              "      <th>0</th>\n",
              "      <td>1.0</td>\n",
              "      <td>0.0</td>\n",
              "      <td>1.0</td>\n",
              "      <td>0.0</td>\n",
              "      <td>0.0</td>\n",
              "      <td>0.0</td>\n",
              "      <td>0.0</td>\n",
              "      <td>0.0</td>\n",
              "      <td>0.0</td>\n",
              "      <td>0.0</td>\n",
              "      <td>...</td>\n",
              "      <td>0.0</td>\n",
              "      <td>0.0</td>\n",
              "      <td>1.0</td>\n",
              "      <td>0.0</td>\n",
              "      <td>0.817249</td>\n",
              "      <td>-0.712775</td>\n",
              "      <td>1.828109</td>\n",
              "      <td>1.327849</td>\n",
              "      <td>NCG06</td>\n",
              "      <td>OUT018</td>\n",
              "    </tr>\n",
              "    <tr>\n",
              "      <th>1</th>\n",
              "      <td>1.0</td>\n",
              "      <td>0.0</td>\n",
              "      <td>0.0</td>\n",
              "      <td>1.0</td>\n",
              "      <td>0.0</td>\n",
              "      <td>0.0</td>\n",
              "      <td>0.0</td>\n",
              "      <td>0.0</td>\n",
              "      <td>0.0</td>\n",
              "      <td>0.0</td>\n",
              "      <td>...</td>\n",
              "      <td>0.0</td>\n",
              "      <td>0.0</td>\n",
              "      <td>1.0</td>\n",
              "      <td>0.0</td>\n",
              "      <td>0.55634</td>\n",
              "      <td>-1.291052</td>\n",
              "      <td>0.603369</td>\n",
              "      <td>1.327849</td>\n",
              "      <td>FDV57</td>\n",
              "      <td>OUT018</td>\n",
              "    </tr>\n",
              "    <tr>\n",
              "      <th>2</th>\n",
              "      <td>1.0</td>\n",
              "      <td>2.0</td>\n",
              "      <td>0.0</td>\n",
              "      <td>1.0</td>\n",
              "      <td>0.0</td>\n",
              "      <td>0.0</td>\n",
              "      <td>0.0</td>\n",
              "      <td>0.0</td>\n",
              "      <td>0.0</td>\n",
              "      <td>0.0</td>\n",
              "      <td>...</td>\n",
              "      <td>0.0</td>\n",
              "      <td>1.0</td>\n",
              "      <td>0.0</td>\n",
              "      <td>0.0</td>\n",
              "      <td>-0.131512</td>\n",
              "      <td>1.813319</td>\n",
              "      <td>0.244541</td>\n",
              "      <td>0.136187</td>\n",
              "      <td>FDM27</td>\n",
              "      <td>OUT049</td>\n",
              "    </tr>\n",
              "    <tr>\n",
              "      <th>3</th>\n",
              "      <td>0.0</td>\n",
              "      <td>1.0</td>\n",
              "      <td>1.0</td>\n",
              "      <td>0.0</td>\n",
              "      <td>1.0</td>\n",
              "      <td>0.0</td>\n",
              "      <td>0.0</td>\n",
              "      <td>0.0</td>\n",
              "      <td>0.0</td>\n",
              "      <td>0.0</td>\n",
              "      <td>...</td>\n",
              "      <td>0.0</td>\n",
              "      <td>1.0</td>\n",
              "      <td>0.0</td>\n",
              "      <td>0.0</td>\n",
              "      <td>-1.169219</td>\n",
              "      <td>-1.004931</td>\n",
              "      <td>-0.952591</td>\n",
              "      <td>0.732018</td>\n",
              "      <td>FDG24</td>\n",
              "      <td>OUT035</td>\n",
              "    </tr>\n",
              "    <tr>\n",
              "      <th>4</th>\n",
              "      <td>1.0</td>\n",
              "      <td>1.0</td>\n",
              "      <td>1.0</td>\n",
              "      <td>0.0</td>\n",
              "      <td>0.0</td>\n",
              "      <td>0.0</td>\n",
              "      <td>0.0</td>\n",
              "      <td>0.0</td>\n",
              "      <td>0.0</td>\n",
              "      <td>1.0</td>\n",
              "      <td>...</td>\n",
              "      <td>0.0</td>\n",
              "      <td>1.0</td>\n",
              "      <td>0.0</td>\n",
              "      <td>0.0</td>\n",
              "      <td>1.528819</td>\n",
              "      <td>-0.965484</td>\n",
              "      <td>-0.33646</td>\n",
              "      <td>0.493686</td>\n",
              "      <td>FDD05</td>\n",
              "      <td>OUT045</td>\n",
              "    </tr>\n",
              "  </tbody>\n",
              "</table>\n",
              "<p>5 rows × 30 columns</p>\n",
              "</div>\n",
              "      <button class=\"colab-df-convert\" onclick=\"convertToInteractive('df-c58ec037-9f77-4b5d-9211-f13619c5a2a0')\"\n",
              "              title=\"Convert this dataframe to an interactive table.\"\n",
              "              style=\"display:none;\">\n",
              "        \n",
              "  <svg xmlns=\"http://www.w3.org/2000/svg\" height=\"24px\"viewBox=\"0 0 24 24\"\n",
              "       width=\"24px\">\n",
              "    <path d=\"M0 0h24v24H0V0z\" fill=\"none\"/>\n",
              "    <path d=\"M18.56 5.44l.94 2.06.94-2.06 2.06-.94-2.06-.94-.94-2.06-.94 2.06-2.06.94zm-11 1L8.5 8.5l.94-2.06 2.06-.94-2.06-.94L8.5 2.5l-.94 2.06-2.06.94zm10 10l.94 2.06.94-2.06 2.06-.94-2.06-.94-.94-2.06-.94 2.06-2.06.94z\"/><path d=\"M17.41 7.96l-1.37-1.37c-.4-.4-.92-.59-1.43-.59-.52 0-1.04.2-1.43.59L10.3 9.45l-7.72 7.72c-.78.78-.78 2.05 0 2.83L4 21.41c.39.39.9.59 1.41.59.51 0 1.02-.2 1.41-.59l7.78-7.78 2.81-2.81c.8-.78.8-2.07 0-2.86zM5.41 20L4 18.59l7.72-7.72 1.47 1.35L5.41 20z\"/>\n",
              "  </svg>\n",
              "      </button>\n",
              "      \n",
              "  <style>\n",
              "    .colab-df-container {\n",
              "      display:flex;\n",
              "      flex-wrap:wrap;\n",
              "      gap: 12px;\n",
              "    }\n",
              "\n",
              "    .colab-df-convert {\n",
              "      background-color: #E8F0FE;\n",
              "      border: none;\n",
              "      border-radius: 50%;\n",
              "      cursor: pointer;\n",
              "      display: none;\n",
              "      fill: #1967D2;\n",
              "      height: 32px;\n",
              "      padding: 0 0 0 0;\n",
              "      width: 32px;\n",
              "    }\n",
              "\n",
              "    .colab-df-convert:hover {\n",
              "      background-color: #E2EBFA;\n",
              "      box-shadow: 0px 1px 2px rgba(60, 64, 67, 0.3), 0px 1px 3px 1px rgba(60, 64, 67, 0.15);\n",
              "      fill: #174EA6;\n",
              "    }\n",
              "\n",
              "    [theme=dark] .colab-df-convert {\n",
              "      background-color: #3B4455;\n",
              "      fill: #D2E3FC;\n",
              "    }\n",
              "\n",
              "    [theme=dark] .colab-df-convert:hover {\n",
              "      background-color: #434B5C;\n",
              "      box-shadow: 0px 1px 3px 1px rgba(0, 0, 0, 0.15);\n",
              "      filter: drop-shadow(0px 1px 2px rgba(0, 0, 0, 0.3));\n",
              "      fill: #FFFFFF;\n",
              "    }\n",
              "  </style>\n",
              "\n",
              "      <script>\n",
              "        const buttonEl =\n",
              "          document.querySelector('#df-c58ec037-9f77-4b5d-9211-f13619c5a2a0 button.colab-df-convert');\n",
              "        buttonEl.style.display =\n",
              "          google.colab.kernel.accessAllowed ? 'block' : 'none';\n",
              "\n",
              "        async function convertToInteractive(key) {\n",
              "          const element = document.querySelector('#df-c58ec037-9f77-4b5d-9211-f13619c5a2a0');\n",
              "          const dataTable =\n",
              "            await google.colab.kernel.invokeFunction('convertToInteractive',\n",
              "                                                     [key], {});\n",
              "          if (!dataTable) return;\n",
              "\n",
              "          const docLinkHtml = 'Like what you see? Visit the ' +\n",
              "            '<a target=\"_blank\" href=https://colab.research.google.com/notebooks/data_table.ipynb>data table notebook</a>'\n",
              "            + ' to learn more about interactive tables.';\n",
              "          element.innerHTML = '';\n",
              "          dataTable['output_type'] = 'display_data';\n",
              "          await google.colab.output.renderOutput(dataTable, element);\n",
              "          const docLink = document.createElement('div');\n",
              "          docLink.innerHTML = docLinkHtml;\n",
              "          element.appendChild(docLink);\n",
              "        }\n",
              "      </script>\n",
              "    </div>\n",
              "  </div>\n",
              "  "
            ]
          },
          "metadata": {}
        },
        {
          "output_type": "stream",
          "name": "stdout",
          "text": [
            "<class 'pandas.core.frame.DataFrame'>\n",
            "RangeIndex: 6392 entries, 0 to 6391\n",
            "Data columns (total 30 columns):\n",
            " #   Column  Non-Null Count  Dtype \n",
            "---  ------  --------------  ----- \n",
            " 0   0       6392 non-null   object\n",
            " 1   1       6392 non-null   object\n",
            " 2   2       6392 non-null   object\n",
            " 3   3       6392 non-null   object\n",
            " 4   4       6392 non-null   object\n",
            " 5   5       6392 non-null   object\n",
            " 6   6       6392 non-null   object\n",
            " 7   7       6392 non-null   object\n",
            " 8   8       6392 non-null   object\n",
            " 9   9       6392 non-null   object\n",
            " 10  10      6392 non-null   object\n",
            " 11  11      6392 non-null   object\n",
            " 12  12      6392 non-null   object\n",
            " 13  13      6392 non-null   object\n",
            " 14  14      6392 non-null   object\n",
            " 15  15      6392 non-null   object\n",
            " 16  16      6392 non-null   object\n",
            " 17  17      6392 non-null   object\n",
            " 18  18      6392 non-null   object\n",
            " 19  19      6392 non-null   object\n",
            " 20  20      6392 non-null   object\n",
            " 21  21      6392 non-null   object\n",
            " 22  22      6392 non-null   object\n",
            " 23  23      6392 non-null   object\n",
            " 24  24      6392 non-null   object\n",
            " 25  25      6392 non-null   object\n",
            " 26  26      6392 non-null   object\n",
            " 27  27      6392 non-null   object\n",
            " 28  28      6392 non-null   object\n",
            " 29  29      6392 non-null   object\n",
            "dtypes: object(30)\n",
            "memory usage: 1.5+ MB\n"
          ]
        }
      ]
    },
    {
      "cell_type": "markdown",
      "source": [
        "## Evaluation 🧪"
      ],
      "metadata": {
        "id": "SqGS1cFazVDE"
      }
    },
    {
      "cell_type": "markdown",
      "source": [
        "#### Linear Regression Model 🇱"
      ],
      "metadata": {
        "id": "Aba9oV8SU-Gd"
      }
    },
    {
      "cell_type": "markdown",
      "source": [
        "`Regression Models` help predict `continuous values`. Eg: `Price`\n",
        "- So we will be working with the numerical columns in this section\n",
        "\n",
        "Lets start by building a `linear regression model to predict sales`. And\n",
        "\n",
        "- Evaluate the performance of model based on `r^2`.\n",
        "- Evaluate the performance of model based on `rmse`."
      ],
      "metadata": {
        "id": "ISshrmKmKmaS"
      }
    },
    {
      "cell_type": "code",
      "source": [
        "# Libraries\n",
        "from sklearn.dummy import DummyRegressor\n",
        "from sklearn.metrics import mean_squared_error, mean_absolute_error, r2_score\n",
        "from sklearn.tree import plot_tree"
      ],
      "metadata": {
        "id": "kL4AP3XlWyeW"
      },
      "execution_count": 40,
      "outputs": []
    },
    {
      "cell_type": "code",
      "source": [
        "num_processor = make_column_transformer(num_tuple,remainder='drop')"
      ],
      "metadata": {
        "id": "j16CglFEZd0C"
      },
      "execution_count": 54,
      "outputs": []
    },
    {
      "cell_type": "code",
      "source": [
        "# instantiate a linear regression model\n",
        "dummy_reg = DummyRegressor(strategy='mean')\n",
        "\n",
        "# model into a pipeline\n",
        "dummy_pipe = make_pipeline(num_processor, dummy_reg)\n",
        "\n",
        "## fit your pipe on the training data\n",
        "dummy_pipe.fit(X_train,y_train)"
      ],
      "metadata": {
        "id": "LYXBJH-szU1J",
        "colab": {
          "base_uri": "https://localhost:8080/",
          "height": 227
        },
        "outputId": "5cce2f01-f605-42f7-f2f7-08bc542ac8ca"
      },
      "execution_count": 56,
      "outputs": [
        {
          "output_type": "execute_result",
          "data": {
            "text/plain": [
              "Pipeline(steps=[('columntransformer',\n",
              "                 ColumnTransformer(transformers=[('pipeline',\n",
              "                                                  Pipeline(steps=[('simpleimputer',\n",
              "                                                                   SimpleImputer()),\n",
              "                                                                  ('standardscaler',\n",
              "                                                                   StandardScaler())]),\n",
              "                                                  <sklearn.compose._column_transformer.make_column_selector object at 0x7f4d5aef1250>)])),\n",
              "                ('dummyregressor', DummyRegressor())])"
            ],
            "text/html": [
              "<style>#sk-c4a5a4d4-3868-46ff-a9b7-7f42e72b285a {color: black;background-color: white;}#sk-c4a5a4d4-3868-46ff-a9b7-7f42e72b285a pre{padding: 0;}#sk-c4a5a4d4-3868-46ff-a9b7-7f42e72b285a div.sk-toggleable {background-color: white;}#sk-c4a5a4d4-3868-46ff-a9b7-7f42e72b285a label.sk-toggleable__label {cursor: pointer;display: block;width: 100%;margin-bottom: 0;padding: 0.3em;box-sizing: border-box;text-align: center;}#sk-c4a5a4d4-3868-46ff-a9b7-7f42e72b285a label.sk-toggleable__label-arrow:before {content: \"▸\";float: left;margin-right: 0.25em;color: #696969;}#sk-c4a5a4d4-3868-46ff-a9b7-7f42e72b285a label.sk-toggleable__label-arrow:hover:before {color: black;}#sk-c4a5a4d4-3868-46ff-a9b7-7f42e72b285a div.sk-estimator:hover label.sk-toggleable__label-arrow:before {color: black;}#sk-c4a5a4d4-3868-46ff-a9b7-7f42e72b285a div.sk-toggleable__content {max-height: 0;max-width: 0;overflow: hidden;text-align: left;background-color: #f0f8ff;}#sk-c4a5a4d4-3868-46ff-a9b7-7f42e72b285a div.sk-toggleable__content pre {margin: 0.2em;color: black;border-radius: 0.25em;background-color: #f0f8ff;}#sk-c4a5a4d4-3868-46ff-a9b7-7f42e72b285a input.sk-toggleable__control:checked~div.sk-toggleable__content {max-height: 200px;max-width: 100%;overflow: auto;}#sk-c4a5a4d4-3868-46ff-a9b7-7f42e72b285a input.sk-toggleable__control:checked~label.sk-toggleable__label-arrow:before {content: \"▾\";}#sk-c4a5a4d4-3868-46ff-a9b7-7f42e72b285a div.sk-estimator input.sk-toggleable__control:checked~label.sk-toggleable__label {background-color: #d4ebff;}#sk-c4a5a4d4-3868-46ff-a9b7-7f42e72b285a div.sk-label input.sk-toggleable__control:checked~label.sk-toggleable__label {background-color: #d4ebff;}#sk-c4a5a4d4-3868-46ff-a9b7-7f42e72b285a input.sk-hidden--visually {border: 0;clip: rect(1px 1px 1px 1px);clip: rect(1px, 1px, 1px, 1px);height: 1px;margin: -1px;overflow: hidden;padding: 0;position: absolute;width: 1px;}#sk-c4a5a4d4-3868-46ff-a9b7-7f42e72b285a div.sk-estimator {font-family: monospace;background-color: #f0f8ff;border: 1px dotted black;border-radius: 0.25em;box-sizing: border-box;margin-bottom: 0.5em;}#sk-c4a5a4d4-3868-46ff-a9b7-7f42e72b285a div.sk-estimator:hover {background-color: #d4ebff;}#sk-c4a5a4d4-3868-46ff-a9b7-7f42e72b285a div.sk-parallel-item::after {content: \"\";width: 100%;border-bottom: 1px solid gray;flex-grow: 1;}#sk-c4a5a4d4-3868-46ff-a9b7-7f42e72b285a div.sk-label:hover label.sk-toggleable__label {background-color: #d4ebff;}#sk-c4a5a4d4-3868-46ff-a9b7-7f42e72b285a div.sk-serial::before {content: \"\";position: absolute;border-left: 1px solid gray;box-sizing: border-box;top: 2em;bottom: 0;left: 50%;}#sk-c4a5a4d4-3868-46ff-a9b7-7f42e72b285a div.sk-serial {display: flex;flex-direction: column;align-items: center;background-color: white;padding-right: 0.2em;padding-left: 0.2em;}#sk-c4a5a4d4-3868-46ff-a9b7-7f42e72b285a div.sk-item {z-index: 1;}#sk-c4a5a4d4-3868-46ff-a9b7-7f42e72b285a div.sk-parallel {display: flex;align-items: stretch;justify-content: center;background-color: white;}#sk-c4a5a4d4-3868-46ff-a9b7-7f42e72b285a div.sk-parallel::before {content: \"\";position: absolute;border-left: 1px solid gray;box-sizing: border-box;top: 2em;bottom: 0;left: 50%;}#sk-c4a5a4d4-3868-46ff-a9b7-7f42e72b285a div.sk-parallel-item {display: flex;flex-direction: column;position: relative;background-color: white;}#sk-c4a5a4d4-3868-46ff-a9b7-7f42e72b285a div.sk-parallel-item:first-child::after {align-self: flex-end;width: 50%;}#sk-c4a5a4d4-3868-46ff-a9b7-7f42e72b285a div.sk-parallel-item:last-child::after {align-self: flex-start;width: 50%;}#sk-c4a5a4d4-3868-46ff-a9b7-7f42e72b285a div.sk-parallel-item:only-child::after {width: 0;}#sk-c4a5a4d4-3868-46ff-a9b7-7f42e72b285a div.sk-dashed-wrapped {border: 1px dashed gray;margin: 0 0.4em 0.5em 0.4em;box-sizing: border-box;padding-bottom: 0.4em;background-color: white;position: relative;}#sk-c4a5a4d4-3868-46ff-a9b7-7f42e72b285a div.sk-label label {font-family: monospace;font-weight: bold;background-color: white;display: inline-block;line-height: 1.2em;}#sk-c4a5a4d4-3868-46ff-a9b7-7f42e72b285a div.sk-label-container {position: relative;z-index: 2;text-align: center;}#sk-c4a5a4d4-3868-46ff-a9b7-7f42e72b285a div.sk-container {/* jupyter's `normalize.less` sets `[hidden] { display: none; }` but bootstrap.min.css set `[hidden] { display: none !important; }` so we also need the `!important` here to be able to override the default hidden behavior on the sphinx rendered scikit-learn.org. See: https://github.com/scikit-learn/scikit-learn/issues/21755 */display: inline-block !important;position: relative;}#sk-c4a5a4d4-3868-46ff-a9b7-7f42e72b285a div.sk-text-repr-fallback {display: none;}</style><div id=\"sk-c4a5a4d4-3868-46ff-a9b7-7f42e72b285a\" class=\"sk-top-container\"><div class=\"sk-text-repr-fallback\"><pre>Pipeline(steps=[(&#x27;columntransformer&#x27;,\n",
              "                 ColumnTransformer(transformers=[(&#x27;pipeline&#x27;,\n",
              "                                                  Pipeline(steps=[(&#x27;simpleimputer&#x27;,\n",
              "                                                                   SimpleImputer()),\n",
              "                                                                  (&#x27;standardscaler&#x27;,\n",
              "                                                                   StandardScaler())]),\n",
              "                                                  &lt;sklearn.compose._column_transformer.make_column_selector object at 0x7f4d5aef1250&gt;)])),\n",
              "                (&#x27;dummyregressor&#x27;, DummyRegressor())])</pre><b>Please rerun this cell to show the HTML repr or trust the notebook.</b></div><div class=\"sk-container\" hidden><div class=\"sk-item sk-dashed-wrapped\"><div class=\"sk-label-container\"><div class=\"sk-label sk-toggleable\"><input class=\"sk-toggleable__control sk-hidden--visually\" id=\"1a695f6a-cb36-4f6d-b931-0ea92cebdd96\" type=\"checkbox\" ><label for=\"1a695f6a-cb36-4f6d-b931-0ea92cebdd96\" class=\"sk-toggleable__label sk-toggleable__label-arrow\">Pipeline</label><div class=\"sk-toggleable__content\"><pre>Pipeline(steps=[(&#x27;columntransformer&#x27;,\n",
              "                 ColumnTransformer(transformers=[(&#x27;pipeline&#x27;,\n",
              "                                                  Pipeline(steps=[(&#x27;simpleimputer&#x27;,\n",
              "                                                                   SimpleImputer()),\n",
              "                                                                  (&#x27;standardscaler&#x27;,\n",
              "                                                                   StandardScaler())]),\n",
              "                                                  &lt;sklearn.compose._column_transformer.make_column_selector object at 0x7f4d5aef1250&gt;)])),\n",
              "                (&#x27;dummyregressor&#x27;, DummyRegressor())])</pre></div></div></div><div class=\"sk-serial\"><div class=\"sk-item sk-dashed-wrapped\"><div class=\"sk-label-container\"><div class=\"sk-label sk-toggleable\"><input class=\"sk-toggleable__control sk-hidden--visually\" id=\"998749bd-0e31-4d9f-ac61-d28fe5335931\" type=\"checkbox\" ><label for=\"998749bd-0e31-4d9f-ac61-d28fe5335931\" class=\"sk-toggleable__label sk-toggleable__label-arrow\">columntransformer: ColumnTransformer</label><div class=\"sk-toggleable__content\"><pre>ColumnTransformer(transformers=[(&#x27;pipeline&#x27;,\n",
              "                                 Pipeline(steps=[(&#x27;simpleimputer&#x27;,\n",
              "                                                  SimpleImputer()),\n",
              "                                                 (&#x27;standardscaler&#x27;,\n",
              "                                                  StandardScaler())]),\n",
              "                                 &lt;sklearn.compose._column_transformer.make_column_selector object at 0x7f4d5aef1250&gt;)])</pre></div></div></div><div class=\"sk-parallel\"><div class=\"sk-parallel-item\"><div class=\"sk-item\"><div class=\"sk-label-container\"><div class=\"sk-label sk-toggleable\"><input class=\"sk-toggleable__control sk-hidden--visually\" id=\"468840c0-048f-4bf7-b2ac-339324ab35af\" type=\"checkbox\" ><label for=\"468840c0-048f-4bf7-b2ac-339324ab35af\" class=\"sk-toggleable__label sk-toggleable__label-arrow\">pipeline</label><div class=\"sk-toggleable__content\"><pre>&lt;sklearn.compose._column_transformer.make_column_selector object at 0x7f4d5aef1250&gt;</pre></div></div></div><div class=\"sk-serial\"><div class=\"sk-item\"><div class=\"sk-serial\"><div class=\"sk-item\"><div class=\"sk-estimator sk-toggleable\"><input class=\"sk-toggleable__control sk-hidden--visually\" id=\"d70991bb-7f51-4654-8fd5-380bb0952497\" type=\"checkbox\" ><label for=\"d70991bb-7f51-4654-8fd5-380bb0952497\" class=\"sk-toggleable__label sk-toggleable__label-arrow\">SimpleImputer</label><div class=\"sk-toggleable__content\"><pre>SimpleImputer()</pre></div></div></div><div class=\"sk-item\"><div class=\"sk-estimator sk-toggleable\"><input class=\"sk-toggleable__control sk-hidden--visually\" id=\"bfceade0-70ed-465e-9b34-2a70dd854a3b\" type=\"checkbox\" ><label for=\"bfceade0-70ed-465e-9b34-2a70dd854a3b\" class=\"sk-toggleable__label sk-toggleable__label-arrow\">StandardScaler</label><div class=\"sk-toggleable__content\"><pre>StandardScaler()</pre></div></div></div></div></div></div></div></div></div></div><div class=\"sk-item\"><div class=\"sk-estimator sk-toggleable\"><input class=\"sk-toggleable__control sk-hidden--visually\" id=\"305c7ae4-c6fb-4f22-92a9-d88ff624ff92\" type=\"checkbox\" ><label for=\"305c7ae4-c6fb-4f22-92a9-d88ff624ff92\" class=\"sk-toggleable__label sk-toggleable__label-arrow\">DummyRegressor</label><div class=\"sk-toggleable__content\"><pre>DummyRegressor()</pre></div></div></div></div></div></div></div>"
            ]
          },
          "metadata": {},
          "execution_count": 56
        }
      ]
    },
    {
      "cell_type": "code",
      "source": [
        "train_pred_dummy = dummy_pipe.predict(X_train)\n",
        "test_pred_dummy = dummy_pipe.predict(X_test)"
      ],
      "metadata": {
        "id": "k19FELakOee3"
      },
      "execution_count": 57,
      "outputs": []
    },
    {
      "cell_type": "markdown",
      "source": [
        "#### Calculating the Regression Metrics 🔢"
      ],
      "metadata": {
        "id": "jqae2S6ORbgd"
      }
    },
    {
      "cell_type": "code",
      "source": [
        "'''\n",
        "We'll write a Evaluation Regression Function \n",
        "in order to call metrics and not repeat typing out.\n",
        "*** Best Practise to make functions for repetative tasks ***\n",
        "'''\n",
        "from sklearn.metrics import mean_absolute_error, mean_squared_error, r2_score\n",
        "def eval_regression (true, pred):\n",
        "  mae = mean_absolute_error(true, pred).round(2)\n",
        "  mse = mean_squared_error(true, pred).round(2)\n",
        "  rmse = np.sqrt(mse).round(2)\n",
        "  r2 = r2_score(true, pred).round(4)\n",
        "\n",
        "  print(f'MAE {mae},\\n MSE {mse},\\n RMSE: {rmse}, \\n R^2: {r2}')"
      ],
      "metadata": {
        "id": "wi2GM5N5QEX4"
      },
      "execution_count": 67,
      "outputs": []
    },
    {
      "cell_type": "code",
      "source": [
        "eval_regression(y_train, train_pred_dummy)"
      ],
      "metadata": {
        "colab": {
          "base_uri": "https://localhost:8080/"
        },
        "id": "i7xJnxzbT05r",
        "outputId": "f220601d-5793-4d4f-dc1e-7a8950ebf062"
      },
      "execution_count": 58,
      "outputs": [
        {
          "output_type": "stream",
          "name": "stdout",
          "text": [
            "MAE 1360.22,\n",
            " MSE 2959455.7,\n",
            " RMSE: 1720.31, \n",
            " R^2: 0.0\n"
          ]
        }
      ]
    },
    {
      "cell_type": "code",
      "source": [
        "eval_regression(y_test, test_pred_dummy)"
      ],
      "metadata": {
        "colab": {
          "base_uri": "https://localhost:8080/"
        },
        "id": "e9_4XkJbT-TD",
        "outputId": "0c5a7d53-7bd9-45a8-ebcc-46bc34998a39"
      },
      "execution_count": 59,
      "outputs": [
        {
          "output_type": "stream",
          "name": "stdout",
          "text": [
            "MAE 1326.12,\n",
            " MSE 2772144.46,\n",
            " RMSE: 1664.98, \n",
            " R^2: -0.004772483978719766\n"
          ]
        }
      ]
    },
    {
      "cell_type": "markdown",
      "source": [
        "Since the `RMSE` and the `r^2` `scores aren't great` for the `Linear Regression Model`, let's try `Regression Tree Model`"
      ],
      "metadata": {
        "id": "ZqoeOcbuUc0V"
      }
    },
    {
      "cell_type": "markdown",
      "source": [
        "#### Regression Tree Model 🌴"
      ],
      "metadata": {
        "id": "Y1qez1PGU8Jl"
      }
    },
    {
      "cell_type": "markdown",
      "source": [
        "Again we will\n",
        "  -  Build a simple `regression tree` model.\n",
        "  - Compare the performance of the model based on `r^2`.\n",
        "  -  Compare the performance of the model based on `rmse`.  "
      ],
      "metadata": {
        "id": "BbSWsLbTVZ7S"
      }
    },
    {
      "cell_type": "code",
      "source": [
        "# Libraries\n",
        "from sklearn.tree import DecisionTreeRegressor\n",
        "from sklearn.ensemble import RandomForestRegressor\n",
        "from sklearn.metrics import mean_squared_error, mean_absolute_error, r2_score"
      ],
      "metadata": {
        "id": "79VBot_rWcUf"
      },
      "execution_count": 101,
      "outputs": []
    },
    {
      "cell_type": "markdown",
      "source": [
        "1) High Bias - Simple Tree"
      ],
      "metadata": {
        "id": "oNX0qoDTbKiP"
      }
    },
    {
      "cell_type": "code",
      "source": [
        "# Lets start with the simplest tree \n",
        "dec_tree1 = DecisionTreeRegressor(max_depth=1)  # cutting off at depth=1 : for the highest bias possible\n",
        "\n",
        "# Put model in the pipeline with the preprocessor\n",
        "dec_pipe1 = make_pipeline(num_processor, dec_tree1)\n",
        "\n",
        "# Fit the model on Training Data\n",
        "dec_pipe1.fit(X_train, y_train)"
      ],
      "metadata": {
        "colab": {
          "base_uri": "https://localhost:8080/",
          "height": 227
        },
        "id": "8Ag43IcnUW9Q",
        "outputId": "7ad4bfec-8ec5-4e17-e602-6c891ed0eb81"
      },
      "execution_count": 93,
      "outputs": [
        {
          "output_type": "execute_result",
          "data": {
            "text/plain": [
              "Pipeline(steps=[('columntransformer',\n",
              "                 ColumnTransformer(transformers=[('pipeline',\n",
              "                                                  Pipeline(steps=[('simpleimputer',\n",
              "                                                                   SimpleImputer()),\n",
              "                                                                  ('standardscaler',\n",
              "                                                                   StandardScaler())]),\n",
              "                                                  <sklearn.compose._column_transformer.make_column_selector object at 0x7f4d5aef1250>)])),\n",
              "                ('decisiontreeregressor', DecisionTreeRegressor(max_depth=1))])"
            ],
            "text/html": [
              "<style>#sk-91458a71-7c3d-4dd4-9315-33bdc26e1a53 {color: black;background-color: white;}#sk-91458a71-7c3d-4dd4-9315-33bdc26e1a53 pre{padding: 0;}#sk-91458a71-7c3d-4dd4-9315-33bdc26e1a53 div.sk-toggleable {background-color: white;}#sk-91458a71-7c3d-4dd4-9315-33bdc26e1a53 label.sk-toggleable__label {cursor: pointer;display: block;width: 100%;margin-bottom: 0;padding: 0.3em;box-sizing: border-box;text-align: center;}#sk-91458a71-7c3d-4dd4-9315-33bdc26e1a53 label.sk-toggleable__label-arrow:before {content: \"▸\";float: left;margin-right: 0.25em;color: #696969;}#sk-91458a71-7c3d-4dd4-9315-33bdc26e1a53 label.sk-toggleable__label-arrow:hover:before {color: black;}#sk-91458a71-7c3d-4dd4-9315-33bdc26e1a53 div.sk-estimator:hover label.sk-toggleable__label-arrow:before {color: black;}#sk-91458a71-7c3d-4dd4-9315-33bdc26e1a53 div.sk-toggleable__content {max-height: 0;max-width: 0;overflow: hidden;text-align: left;background-color: #f0f8ff;}#sk-91458a71-7c3d-4dd4-9315-33bdc26e1a53 div.sk-toggleable__content pre {margin: 0.2em;color: black;border-radius: 0.25em;background-color: #f0f8ff;}#sk-91458a71-7c3d-4dd4-9315-33bdc26e1a53 input.sk-toggleable__control:checked~div.sk-toggleable__content {max-height: 200px;max-width: 100%;overflow: auto;}#sk-91458a71-7c3d-4dd4-9315-33bdc26e1a53 input.sk-toggleable__control:checked~label.sk-toggleable__label-arrow:before {content: \"▾\";}#sk-91458a71-7c3d-4dd4-9315-33bdc26e1a53 div.sk-estimator input.sk-toggleable__control:checked~label.sk-toggleable__label {background-color: #d4ebff;}#sk-91458a71-7c3d-4dd4-9315-33bdc26e1a53 div.sk-label input.sk-toggleable__control:checked~label.sk-toggleable__label {background-color: #d4ebff;}#sk-91458a71-7c3d-4dd4-9315-33bdc26e1a53 input.sk-hidden--visually {border: 0;clip: rect(1px 1px 1px 1px);clip: rect(1px, 1px, 1px, 1px);height: 1px;margin: -1px;overflow: hidden;padding: 0;position: absolute;width: 1px;}#sk-91458a71-7c3d-4dd4-9315-33bdc26e1a53 div.sk-estimator {font-family: monospace;background-color: #f0f8ff;border: 1px dotted black;border-radius: 0.25em;box-sizing: border-box;margin-bottom: 0.5em;}#sk-91458a71-7c3d-4dd4-9315-33bdc26e1a53 div.sk-estimator:hover {background-color: #d4ebff;}#sk-91458a71-7c3d-4dd4-9315-33bdc26e1a53 div.sk-parallel-item::after {content: \"\";width: 100%;border-bottom: 1px solid gray;flex-grow: 1;}#sk-91458a71-7c3d-4dd4-9315-33bdc26e1a53 div.sk-label:hover label.sk-toggleable__label {background-color: #d4ebff;}#sk-91458a71-7c3d-4dd4-9315-33bdc26e1a53 div.sk-serial::before {content: \"\";position: absolute;border-left: 1px solid gray;box-sizing: border-box;top: 2em;bottom: 0;left: 50%;}#sk-91458a71-7c3d-4dd4-9315-33bdc26e1a53 div.sk-serial {display: flex;flex-direction: column;align-items: center;background-color: white;padding-right: 0.2em;padding-left: 0.2em;}#sk-91458a71-7c3d-4dd4-9315-33bdc26e1a53 div.sk-item {z-index: 1;}#sk-91458a71-7c3d-4dd4-9315-33bdc26e1a53 div.sk-parallel {display: flex;align-items: stretch;justify-content: center;background-color: white;}#sk-91458a71-7c3d-4dd4-9315-33bdc26e1a53 div.sk-parallel::before {content: \"\";position: absolute;border-left: 1px solid gray;box-sizing: border-box;top: 2em;bottom: 0;left: 50%;}#sk-91458a71-7c3d-4dd4-9315-33bdc26e1a53 div.sk-parallel-item {display: flex;flex-direction: column;position: relative;background-color: white;}#sk-91458a71-7c3d-4dd4-9315-33bdc26e1a53 div.sk-parallel-item:first-child::after {align-self: flex-end;width: 50%;}#sk-91458a71-7c3d-4dd4-9315-33bdc26e1a53 div.sk-parallel-item:last-child::after {align-self: flex-start;width: 50%;}#sk-91458a71-7c3d-4dd4-9315-33bdc26e1a53 div.sk-parallel-item:only-child::after {width: 0;}#sk-91458a71-7c3d-4dd4-9315-33bdc26e1a53 div.sk-dashed-wrapped {border: 1px dashed gray;margin: 0 0.4em 0.5em 0.4em;box-sizing: border-box;padding-bottom: 0.4em;background-color: white;position: relative;}#sk-91458a71-7c3d-4dd4-9315-33bdc26e1a53 div.sk-label label {font-family: monospace;font-weight: bold;background-color: white;display: inline-block;line-height: 1.2em;}#sk-91458a71-7c3d-4dd4-9315-33bdc26e1a53 div.sk-label-container {position: relative;z-index: 2;text-align: center;}#sk-91458a71-7c3d-4dd4-9315-33bdc26e1a53 div.sk-container {/* jupyter's `normalize.less` sets `[hidden] { display: none; }` but bootstrap.min.css set `[hidden] { display: none !important; }` so we also need the `!important` here to be able to override the default hidden behavior on the sphinx rendered scikit-learn.org. See: https://github.com/scikit-learn/scikit-learn/issues/21755 */display: inline-block !important;position: relative;}#sk-91458a71-7c3d-4dd4-9315-33bdc26e1a53 div.sk-text-repr-fallback {display: none;}</style><div id=\"sk-91458a71-7c3d-4dd4-9315-33bdc26e1a53\" class=\"sk-top-container\"><div class=\"sk-text-repr-fallback\"><pre>Pipeline(steps=[(&#x27;columntransformer&#x27;,\n",
              "                 ColumnTransformer(transformers=[(&#x27;pipeline&#x27;,\n",
              "                                                  Pipeline(steps=[(&#x27;simpleimputer&#x27;,\n",
              "                                                                   SimpleImputer()),\n",
              "                                                                  (&#x27;standardscaler&#x27;,\n",
              "                                                                   StandardScaler())]),\n",
              "                                                  &lt;sklearn.compose._column_transformer.make_column_selector object at 0x7f4d5aef1250&gt;)])),\n",
              "                (&#x27;decisiontreeregressor&#x27;, DecisionTreeRegressor(max_depth=1))])</pre><b>Please rerun this cell to show the HTML repr or trust the notebook.</b></div><div class=\"sk-container\" hidden><div class=\"sk-item sk-dashed-wrapped\"><div class=\"sk-label-container\"><div class=\"sk-label sk-toggleable\"><input class=\"sk-toggleable__control sk-hidden--visually\" id=\"30d1702b-6001-40ad-ac25-1868d4c23b44\" type=\"checkbox\" ><label for=\"30d1702b-6001-40ad-ac25-1868d4c23b44\" class=\"sk-toggleable__label sk-toggleable__label-arrow\">Pipeline</label><div class=\"sk-toggleable__content\"><pre>Pipeline(steps=[(&#x27;columntransformer&#x27;,\n",
              "                 ColumnTransformer(transformers=[(&#x27;pipeline&#x27;,\n",
              "                                                  Pipeline(steps=[(&#x27;simpleimputer&#x27;,\n",
              "                                                                   SimpleImputer()),\n",
              "                                                                  (&#x27;standardscaler&#x27;,\n",
              "                                                                   StandardScaler())]),\n",
              "                                                  &lt;sklearn.compose._column_transformer.make_column_selector object at 0x7f4d5aef1250&gt;)])),\n",
              "                (&#x27;decisiontreeregressor&#x27;, DecisionTreeRegressor(max_depth=1))])</pre></div></div></div><div class=\"sk-serial\"><div class=\"sk-item sk-dashed-wrapped\"><div class=\"sk-label-container\"><div class=\"sk-label sk-toggleable\"><input class=\"sk-toggleable__control sk-hidden--visually\" id=\"0005f850-da4a-4dc3-b638-c19bb36f4495\" type=\"checkbox\" ><label for=\"0005f850-da4a-4dc3-b638-c19bb36f4495\" class=\"sk-toggleable__label sk-toggleable__label-arrow\">columntransformer: ColumnTransformer</label><div class=\"sk-toggleable__content\"><pre>ColumnTransformer(transformers=[(&#x27;pipeline&#x27;,\n",
              "                                 Pipeline(steps=[(&#x27;simpleimputer&#x27;,\n",
              "                                                  SimpleImputer()),\n",
              "                                                 (&#x27;standardscaler&#x27;,\n",
              "                                                  StandardScaler())]),\n",
              "                                 &lt;sklearn.compose._column_transformer.make_column_selector object at 0x7f4d5aef1250&gt;)])</pre></div></div></div><div class=\"sk-parallel\"><div class=\"sk-parallel-item\"><div class=\"sk-item\"><div class=\"sk-label-container\"><div class=\"sk-label sk-toggleable\"><input class=\"sk-toggleable__control sk-hidden--visually\" id=\"a7646c2f-8d1f-4806-bcf1-54fdfe1c94f2\" type=\"checkbox\" ><label for=\"a7646c2f-8d1f-4806-bcf1-54fdfe1c94f2\" class=\"sk-toggleable__label sk-toggleable__label-arrow\">pipeline</label><div class=\"sk-toggleable__content\"><pre>&lt;sklearn.compose._column_transformer.make_column_selector object at 0x7f4d5aef1250&gt;</pre></div></div></div><div class=\"sk-serial\"><div class=\"sk-item\"><div class=\"sk-serial\"><div class=\"sk-item\"><div class=\"sk-estimator sk-toggleable\"><input class=\"sk-toggleable__control sk-hidden--visually\" id=\"c25f1d07-c51f-4a49-a92e-fc68090a2b39\" type=\"checkbox\" ><label for=\"c25f1d07-c51f-4a49-a92e-fc68090a2b39\" class=\"sk-toggleable__label sk-toggleable__label-arrow\">SimpleImputer</label><div class=\"sk-toggleable__content\"><pre>SimpleImputer()</pre></div></div></div><div class=\"sk-item\"><div class=\"sk-estimator sk-toggleable\"><input class=\"sk-toggleable__control sk-hidden--visually\" id=\"6cb5bda8-72e5-4870-b132-bc4a7e25672e\" type=\"checkbox\" ><label for=\"6cb5bda8-72e5-4870-b132-bc4a7e25672e\" class=\"sk-toggleable__label sk-toggleable__label-arrow\">StandardScaler</label><div class=\"sk-toggleable__content\"><pre>StandardScaler()</pre></div></div></div></div></div></div></div></div></div></div><div class=\"sk-item\"><div class=\"sk-estimator sk-toggleable\"><input class=\"sk-toggleable__control sk-hidden--visually\" id=\"09e98ada-17c2-4904-994c-abc632ceed6c\" type=\"checkbox\" ><label for=\"09e98ada-17c2-4904-994c-abc632ceed6c\" class=\"sk-toggleable__label sk-toggleable__label-arrow\">DecisionTreeRegressor</label><div class=\"sk-toggleable__content\"><pre>DecisionTreeRegressor(max_depth=1)</pre></div></div></div></div></div></div></div>"
            ]
          },
          "metadata": {},
          "execution_count": 93
        }
      ]
    },
    {
      "cell_type": "code",
      "source": [
        "print('Training :')\n",
        "eval_regression(y_train, dec_pipe1.predict(X_train))\n",
        "print('Testing :')\n",
        "eval_regression(y_test, dec_pipe1.predict(X_test))"
      ],
      "metadata": {
        "colab": {
          "base_uri": "https://localhost:8080/"
        },
        "id": "0Yvp_24ZaySG",
        "outputId": "bdf6b9c9-0704-4703-b71b-c9149a9c8a34"
      },
      "execution_count": 94,
      "outputs": [
        {
          "output_type": "stream",
          "name": "stdout",
          "text": [
            "Training :\n",
            "MAE 1138.53,\n",
            " MSE 2255705.55,\n",
            " RMSE: 1501.9, \n",
            " R^2: 0.2378\n",
            "Testing :\n",
            "MAE 1112.15,\n",
            " MSE 2125288.24,\n",
            " RMSE: 1457.84, \n",
            " R^2: 0.2297\n"
          ]
        }
      ]
    },
    {
      "cell_type": "markdown",
      "source": [
        "#### 2) An optimum Decision Tree 🌳"
      ],
      "metadata": {
        "id": "3-XmBNlPbU56"
      }
    },
    {
      "cell_type": "markdown",
      "source": [
        "##### Step 1 & 2: Import Libraries & Make an instance of the Model\n"
      ],
      "metadata": {
        "id": "AeSEzoqHb2RS"
      }
    },
    {
      "cell_type": "code",
      "source": [
        "dec_tree = DecisionTreeRegressor(max_depth=None)"
      ],
      "metadata": {
        "id": "tFLkRTrRbf6l"
      },
      "execution_count": 95,
      "outputs": []
    },
    {
      "cell_type": "code",
      "source": [
        "dec_pipe = make_pipeline(num_processor, dec_tree)"
      ],
      "metadata": {
        "id": "2c7VyrbifgHd"
      },
      "execution_count": 96,
      "outputs": []
    },
    {
      "cell_type": "markdown",
      "source": [
        "##### Step 3: Fit the model using your training data.  \n",
        "\n",
        "The model is learning the relationship between the `features (X)` and the `target (y)`."
      ],
      "metadata": {
        "id": "4B4qid_mcBgL"
      }
    },
    {
      "cell_type": "code",
      "source": [
        "dec_pipe.fit(X_train, y_train)"
      ],
      "metadata": {
        "colab": {
          "base_uri": "https://localhost:8080/",
          "height": 227
        },
        "id": "7-EZ8MrLcFcq",
        "outputId": "1538bf43-0fb1-4a9e-c2bb-2a301a977fe9"
      },
      "execution_count": 97,
      "outputs": [
        {
          "output_type": "execute_result",
          "data": {
            "text/plain": [
              "Pipeline(steps=[('columntransformer',\n",
              "                 ColumnTransformer(transformers=[('pipeline',\n",
              "                                                  Pipeline(steps=[('simpleimputer',\n",
              "                                                                   SimpleImputer()),\n",
              "                                                                  ('standardscaler',\n",
              "                                                                   StandardScaler())]),\n",
              "                                                  <sklearn.compose._column_transformer.make_column_selector object at 0x7f4d5aef1250>)])),\n",
              "                ('decisiontreeregressor', DecisionTreeRegressor())])"
            ],
            "text/html": [
              "<style>#sk-8c86cd4d-6334-4eaf-af13-f39bf702501f {color: black;background-color: white;}#sk-8c86cd4d-6334-4eaf-af13-f39bf702501f pre{padding: 0;}#sk-8c86cd4d-6334-4eaf-af13-f39bf702501f div.sk-toggleable {background-color: white;}#sk-8c86cd4d-6334-4eaf-af13-f39bf702501f label.sk-toggleable__label {cursor: pointer;display: block;width: 100%;margin-bottom: 0;padding: 0.3em;box-sizing: border-box;text-align: center;}#sk-8c86cd4d-6334-4eaf-af13-f39bf702501f label.sk-toggleable__label-arrow:before {content: \"▸\";float: left;margin-right: 0.25em;color: #696969;}#sk-8c86cd4d-6334-4eaf-af13-f39bf702501f label.sk-toggleable__label-arrow:hover:before {color: black;}#sk-8c86cd4d-6334-4eaf-af13-f39bf702501f div.sk-estimator:hover label.sk-toggleable__label-arrow:before {color: black;}#sk-8c86cd4d-6334-4eaf-af13-f39bf702501f div.sk-toggleable__content {max-height: 0;max-width: 0;overflow: hidden;text-align: left;background-color: #f0f8ff;}#sk-8c86cd4d-6334-4eaf-af13-f39bf702501f div.sk-toggleable__content pre {margin: 0.2em;color: black;border-radius: 0.25em;background-color: #f0f8ff;}#sk-8c86cd4d-6334-4eaf-af13-f39bf702501f input.sk-toggleable__control:checked~div.sk-toggleable__content {max-height: 200px;max-width: 100%;overflow: auto;}#sk-8c86cd4d-6334-4eaf-af13-f39bf702501f input.sk-toggleable__control:checked~label.sk-toggleable__label-arrow:before {content: \"▾\";}#sk-8c86cd4d-6334-4eaf-af13-f39bf702501f div.sk-estimator input.sk-toggleable__control:checked~label.sk-toggleable__label {background-color: #d4ebff;}#sk-8c86cd4d-6334-4eaf-af13-f39bf702501f div.sk-label input.sk-toggleable__control:checked~label.sk-toggleable__label {background-color: #d4ebff;}#sk-8c86cd4d-6334-4eaf-af13-f39bf702501f input.sk-hidden--visually {border: 0;clip: rect(1px 1px 1px 1px);clip: rect(1px, 1px, 1px, 1px);height: 1px;margin: -1px;overflow: hidden;padding: 0;position: absolute;width: 1px;}#sk-8c86cd4d-6334-4eaf-af13-f39bf702501f div.sk-estimator {font-family: monospace;background-color: #f0f8ff;border: 1px dotted black;border-radius: 0.25em;box-sizing: border-box;margin-bottom: 0.5em;}#sk-8c86cd4d-6334-4eaf-af13-f39bf702501f div.sk-estimator:hover {background-color: #d4ebff;}#sk-8c86cd4d-6334-4eaf-af13-f39bf702501f div.sk-parallel-item::after {content: \"\";width: 100%;border-bottom: 1px solid gray;flex-grow: 1;}#sk-8c86cd4d-6334-4eaf-af13-f39bf702501f div.sk-label:hover label.sk-toggleable__label {background-color: #d4ebff;}#sk-8c86cd4d-6334-4eaf-af13-f39bf702501f div.sk-serial::before {content: \"\";position: absolute;border-left: 1px solid gray;box-sizing: border-box;top: 2em;bottom: 0;left: 50%;}#sk-8c86cd4d-6334-4eaf-af13-f39bf702501f div.sk-serial {display: flex;flex-direction: column;align-items: center;background-color: white;padding-right: 0.2em;padding-left: 0.2em;}#sk-8c86cd4d-6334-4eaf-af13-f39bf702501f div.sk-item {z-index: 1;}#sk-8c86cd4d-6334-4eaf-af13-f39bf702501f div.sk-parallel {display: flex;align-items: stretch;justify-content: center;background-color: white;}#sk-8c86cd4d-6334-4eaf-af13-f39bf702501f div.sk-parallel::before {content: \"\";position: absolute;border-left: 1px solid gray;box-sizing: border-box;top: 2em;bottom: 0;left: 50%;}#sk-8c86cd4d-6334-4eaf-af13-f39bf702501f div.sk-parallel-item {display: flex;flex-direction: column;position: relative;background-color: white;}#sk-8c86cd4d-6334-4eaf-af13-f39bf702501f div.sk-parallel-item:first-child::after {align-self: flex-end;width: 50%;}#sk-8c86cd4d-6334-4eaf-af13-f39bf702501f div.sk-parallel-item:last-child::after {align-self: flex-start;width: 50%;}#sk-8c86cd4d-6334-4eaf-af13-f39bf702501f div.sk-parallel-item:only-child::after {width: 0;}#sk-8c86cd4d-6334-4eaf-af13-f39bf702501f div.sk-dashed-wrapped {border: 1px dashed gray;margin: 0 0.4em 0.5em 0.4em;box-sizing: border-box;padding-bottom: 0.4em;background-color: white;position: relative;}#sk-8c86cd4d-6334-4eaf-af13-f39bf702501f div.sk-label label {font-family: monospace;font-weight: bold;background-color: white;display: inline-block;line-height: 1.2em;}#sk-8c86cd4d-6334-4eaf-af13-f39bf702501f div.sk-label-container {position: relative;z-index: 2;text-align: center;}#sk-8c86cd4d-6334-4eaf-af13-f39bf702501f div.sk-container {/* jupyter's `normalize.less` sets `[hidden] { display: none; }` but bootstrap.min.css set `[hidden] { display: none !important; }` so we also need the `!important` here to be able to override the default hidden behavior on the sphinx rendered scikit-learn.org. See: https://github.com/scikit-learn/scikit-learn/issues/21755 */display: inline-block !important;position: relative;}#sk-8c86cd4d-6334-4eaf-af13-f39bf702501f div.sk-text-repr-fallback {display: none;}</style><div id=\"sk-8c86cd4d-6334-4eaf-af13-f39bf702501f\" class=\"sk-top-container\"><div class=\"sk-text-repr-fallback\"><pre>Pipeline(steps=[(&#x27;columntransformer&#x27;,\n",
              "                 ColumnTransformer(transformers=[(&#x27;pipeline&#x27;,\n",
              "                                                  Pipeline(steps=[(&#x27;simpleimputer&#x27;,\n",
              "                                                                   SimpleImputer()),\n",
              "                                                                  (&#x27;standardscaler&#x27;,\n",
              "                                                                   StandardScaler())]),\n",
              "                                                  &lt;sklearn.compose._column_transformer.make_column_selector object at 0x7f4d5aef1250&gt;)])),\n",
              "                (&#x27;decisiontreeregressor&#x27;, DecisionTreeRegressor())])</pre><b>Please rerun this cell to show the HTML repr or trust the notebook.</b></div><div class=\"sk-container\" hidden><div class=\"sk-item sk-dashed-wrapped\"><div class=\"sk-label-container\"><div class=\"sk-label sk-toggleable\"><input class=\"sk-toggleable__control sk-hidden--visually\" id=\"bd08bca6-10c7-43d4-8fd5-c4874a865488\" type=\"checkbox\" ><label for=\"bd08bca6-10c7-43d4-8fd5-c4874a865488\" class=\"sk-toggleable__label sk-toggleable__label-arrow\">Pipeline</label><div class=\"sk-toggleable__content\"><pre>Pipeline(steps=[(&#x27;columntransformer&#x27;,\n",
              "                 ColumnTransformer(transformers=[(&#x27;pipeline&#x27;,\n",
              "                                                  Pipeline(steps=[(&#x27;simpleimputer&#x27;,\n",
              "                                                                   SimpleImputer()),\n",
              "                                                                  (&#x27;standardscaler&#x27;,\n",
              "                                                                   StandardScaler())]),\n",
              "                                                  &lt;sklearn.compose._column_transformer.make_column_selector object at 0x7f4d5aef1250&gt;)])),\n",
              "                (&#x27;decisiontreeregressor&#x27;, DecisionTreeRegressor())])</pre></div></div></div><div class=\"sk-serial\"><div class=\"sk-item sk-dashed-wrapped\"><div class=\"sk-label-container\"><div class=\"sk-label sk-toggleable\"><input class=\"sk-toggleable__control sk-hidden--visually\" id=\"54c00979-774c-4647-81a2-e4fb9d17dd38\" type=\"checkbox\" ><label for=\"54c00979-774c-4647-81a2-e4fb9d17dd38\" class=\"sk-toggleable__label sk-toggleable__label-arrow\">columntransformer: ColumnTransformer</label><div class=\"sk-toggleable__content\"><pre>ColumnTransformer(transformers=[(&#x27;pipeline&#x27;,\n",
              "                                 Pipeline(steps=[(&#x27;simpleimputer&#x27;,\n",
              "                                                  SimpleImputer()),\n",
              "                                                 (&#x27;standardscaler&#x27;,\n",
              "                                                  StandardScaler())]),\n",
              "                                 &lt;sklearn.compose._column_transformer.make_column_selector object at 0x7f4d5aef1250&gt;)])</pre></div></div></div><div class=\"sk-parallel\"><div class=\"sk-parallel-item\"><div class=\"sk-item\"><div class=\"sk-label-container\"><div class=\"sk-label sk-toggleable\"><input class=\"sk-toggleable__control sk-hidden--visually\" id=\"9934182b-a71c-4960-bee3-2f355735ea2e\" type=\"checkbox\" ><label for=\"9934182b-a71c-4960-bee3-2f355735ea2e\" class=\"sk-toggleable__label sk-toggleable__label-arrow\">pipeline</label><div class=\"sk-toggleable__content\"><pre>&lt;sklearn.compose._column_transformer.make_column_selector object at 0x7f4d5aef1250&gt;</pre></div></div></div><div class=\"sk-serial\"><div class=\"sk-item\"><div class=\"sk-serial\"><div class=\"sk-item\"><div class=\"sk-estimator sk-toggleable\"><input class=\"sk-toggleable__control sk-hidden--visually\" id=\"01770a65-ba87-4ad2-a951-c8b4bec0643d\" type=\"checkbox\" ><label for=\"01770a65-ba87-4ad2-a951-c8b4bec0643d\" class=\"sk-toggleable__label sk-toggleable__label-arrow\">SimpleImputer</label><div class=\"sk-toggleable__content\"><pre>SimpleImputer()</pre></div></div></div><div class=\"sk-item\"><div class=\"sk-estimator sk-toggleable\"><input class=\"sk-toggleable__control sk-hidden--visually\" id=\"434089bc-4801-4897-a566-fd66c18ae07c\" type=\"checkbox\" ><label for=\"434089bc-4801-4897-a566-fd66c18ae07c\" class=\"sk-toggleable__label sk-toggleable__label-arrow\">StandardScaler</label><div class=\"sk-toggleable__content\"><pre>StandardScaler()</pre></div></div></div></div></div></div></div></div></div></div><div class=\"sk-item\"><div class=\"sk-estimator sk-toggleable\"><input class=\"sk-toggleable__control sk-hidden--visually\" id=\"dc6967e4-2a05-41ea-898c-43df769fc2c0\" type=\"checkbox\" ><label for=\"dc6967e4-2a05-41ea-898c-43df769fc2c0\" class=\"sk-toggleable__label sk-toggleable__label-arrow\">DecisionTreeRegressor</label><div class=\"sk-toggleable__content\"><pre>DecisionTreeRegressor()</pre></div></div></div></div></div></div></div>"
            ]
          },
          "metadata": {},
          "execution_count": 97
        }
      ]
    },
    {
      "cell_type": "markdown",
      "source": [
        "##### Step 4: Predict the `target` values for the `training set` and the `test set`. \n",
        "\n",
        " (Note: You can get the score without this step, but if you want to actually see what the predictions are, this is a helpful step)"
      ],
      "metadata": {
        "id": "it7dqcHPcZeF"
      }
    },
    {
      "cell_type": "code",
      "source": [
        "d_train_pred = dec_pipe.predict(X_train)\n",
        "d_test_pred = dec_pipe.predict(X_test)"
      ],
      "metadata": {
        "id": "EAuJXa_DccK7"
      },
      "execution_count": 98,
      "outputs": []
    },
    {
      "cell_type": "markdown",
      "source": [
        "##### Step 5: Evaluate the Model\n",
        "\n",
        "The default metric for regression models is the `R^2 Score`.  That is what you will get with the `.score()` method from a `regression model`."
      ],
      "metadata": {
        "id": "-xNj0_rkdc9l"
      }
    },
    {
      "cell_type": "code",
      "source": [
        "d_train_score = dec_pipe.score(X_train, y_train)\n",
        "d_test_score = dec_pipe.score(X_test,y_test)\n",
        "\n",
        "print('TRAINING :')\n",
        "eval_regression(y_train, d_train_pred)\n",
        "print(d_train_score)\n",
        "\n",
        "print('TESTING :')\n",
        "eval_regression(y_test,d_test_pred)\n",
        "print(d_test_score)"
      ],
      "metadata": {
        "colab": {
          "base_uri": "https://localhost:8080/"
        },
        "id": "7PMTQefxdcP9",
        "outputId": "50734534-f50d-47c2-950c-5d3690ae61c4"
      },
      "execution_count": 99,
      "outputs": [
        {
          "output_type": "stream",
          "name": "stdout",
          "text": [
            "TRAINING :\n",
            "MAE 0.0,\n",
            " MSE 0.0,\n",
            " RMSE: 0.0, \n",
            " R^2: 1.0\n",
            "1.0\n",
            "TESTING :\n",
            "MAE 1255.75,\n",
            " MSE 3409285.12,\n",
            " RMSE: 1846.42, \n",
            " R^2: -0.2357\n",
            "-0.23570611994737045\n"
          ]
        }
      ]
    },
    {
      "cell_type": "markdown",
      "source": [
        "The `default decision tree` had a much higher `R^2 score` on the `training data` than it did on the `test data`.  This is an indication that the` model is overfitting` hence demonstating `High Variance` \n",
        "\n",
        "Let's try to Tune in for better test score"
      ],
      "metadata": {
        "id": "WsZ-oJm8d7DU"
      }
    },
    {
      "cell_type": "markdown",
      "source": [
        "#### Step 6: Tune the Model 🔧\n",
        "\n",
        "To explore `what can be tuned for a model`, it can be very helpful to use the `.get_params()` method. The output will be all of the parameters you can adjust when you instantiate that type of model. "
      ],
      "metadata": {
        "id": "oMHinDxzeeVD"
      }
    },
    {
      "cell_type": "code",
      "source": [
        "dec_tree.get_params()"
      ],
      "metadata": {
        "colab": {
          "base_uri": "https://localhost:8080/"
        },
        "id": "QwUkdWGWem4_",
        "outputId": "d7b1a5b8-72b4-46f3-bbe4-ef9c86247052"
      },
      "execution_count": 91,
      "outputs": [
        {
          "output_type": "execute_result",
          "data": {
            "text/plain": [
              "{'ccp_alpha': 0.0,\n",
              " 'criterion': 'squared_error',\n",
              " 'max_depth': None,\n",
              " 'max_features': None,\n",
              " 'max_leaf_nodes': None,\n",
              " 'min_impurity_decrease': 0.0,\n",
              " 'min_samples_leaf': 1,\n",
              " 'min_samples_split': 2,\n",
              " 'min_weight_fraction_leaf': 0.0,\n",
              " 'random_state': None,\n",
              " 'splitter': 'best'}"
            ]
          },
          "metadata": {},
          "execution_count": 91
        }
      ]
    },
    {
      "cell_type": "code",
      "source": [
        "dec_tree.get_depth()"
      ],
      "metadata": {
        "colab": {
          "base_uri": "https://localhost:8080/"
        },
        "id": "wq30G0eQeqID",
        "outputId": "c519d921-8f11-4b32-90d4-d2f8f7e607ff"
      },
      "execution_count": 100,
      "outputs": [
        {
          "output_type": "execute_result",
          "data": {
            "text/plain": [
              "40"
            ]
          },
          "metadata": {},
          "execution_count": 100
        }
      ]
    },
    {
      "cell_type": "markdown",
      "source": [
        "#### We will `tune` the `hyperparameter` : `max_depth` by finding the `optimal max_depth` & running model"
      ],
      "metadata": {
        "id": "vwBodgE2gDGa"
      }
    },
    {
      "cell_type": "code",
      "source": [
        "# create a range of max_depth values to loop over :\n",
        "depths = range(1, 41)\n",
        "# Dataframe to store the score for each iteration of max_depth\n",
        "scores = pd.DataFrame(index= depths, columns = ['Test Score','Train Score'])\n",
        "# Loop over values in the depth range\n",
        "for depth in depths:\n",
        "  # fit a new model with the depth \n",
        "  dec = DecisionTreeRegressor(max_depth= depth)\n",
        "  d_pipe = make_pipeline(num_processor,dec) # pipeline for only the Numerical Categories\n",
        "  d_pipe.fit(X_train,y_train)\n",
        "  d_train_score = d_pipe.score(X_train, y_train)\n",
        "  d_test_score = d_pipe.score(X_test,y_test)\n",
        "  scores.loc[depth, 'Train Score'] = d_train_score\n",
        "  scores.loc[depth,'Test Score'] = d_test_score"
      ],
      "metadata": {
        "id": "KqIVLhtZgGLM"
      },
      "execution_count": 103,
      "outputs": []
    },
    {
      "cell_type": "code",
      "source": [
        "d_test_score"
      ],
      "metadata": {
        "colab": {
          "base_uri": "https://localhost:8080/"
        },
        "id": "pcY89iuTiDHM",
        "outputId": "69f49db2-c69e-43a1-82cd-ed572935bd91"
      },
      "execution_count": 104,
      "outputs": [
        {
          "output_type": "execute_result",
          "data": {
            "text/plain": [
              "-0.22162692128616124"
            ]
          },
          "metadata": {},
          "execution_count": 104
        }
      ]
    },
    {
      "cell_type": "code",
      "source": [
        "sorted_scores = scores.sort_values(by='Test Score', ascending=False)\n",
        "sorted_scores.head()"
      ],
      "metadata": {
        "colab": {
          "base_uri": "https://localhost:8080/",
          "height": 206
        },
        "id": "y4GXJcCYiFMY",
        "outputId": "a4359748-effb-4256-bfec-7df225001bdc"
      },
      "execution_count": 106,
      "outputs": [
        {
          "output_type": "execute_result",
          "data": {
            "text/plain": [
              "  Test Score Train Score\n",
              "6   0.406581    0.444605\n",
              "7   0.394251    0.468668\n",
              "5   0.367883     0.38849\n",
              "8   0.354822    0.502073\n",
              "4   0.346038    0.357177"
            ],
            "text/html": [
              "\n",
              "  <div id=\"df-1f8f32d4-4826-4f6e-b9db-384a565ba4ab\">\n",
              "    <div class=\"colab-df-container\">\n",
              "      <div>\n",
              "<style scoped>\n",
              "    .dataframe tbody tr th:only-of-type {\n",
              "        vertical-align: middle;\n",
              "    }\n",
              "\n",
              "    .dataframe tbody tr th {\n",
              "        vertical-align: top;\n",
              "    }\n",
              "\n",
              "    .dataframe thead th {\n",
              "        text-align: right;\n",
              "    }\n",
              "</style>\n",
              "<table border=\"1\" class=\"dataframe\">\n",
              "  <thead>\n",
              "    <tr style=\"text-align: right;\">\n",
              "      <th></th>\n",
              "      <th>Test Score</th>\n",
              "      <th>Train Score</th>\n",
              "    </tr>\n",
              "  </thead>\n",
              "  <tbody>\n",
              "    <tr>\n",
              "      <th>6</th>\n",
              "      <td>0.406581</td>\n",
              "      <td>0.444605</td>\n",
              "    </tr>\n",
              "    <tr>\n",
              "      <th>7</th>\n",
              "      <td>0.394251</td>\n",
              "      <td>0.468668</td>\n",
              "    </tr>\n",
              "    <tr>\n",
              "      <th>5</th>\n",
              "      <td>0.367883</td>\n",
              "      <td>0.38849</td>\n",
              "    </tr>\n",
              "    <tr>\n",
              "      <th>8</th>\n",
              "      <td>0.354822</td>\n",
              "      <td>0.502073</td>\n",
              "    </tr>\n",
              "    <tr>\n",
              "      <th>4</th>\n",
              "      <td>0.346038</td>\n",
              "      <td>0.357177</td>\n",
              "    </tr>\n",
              "  </tbody>\n",
              "</table>\n",
              "</div>\n",
              "      <button class=\"colab-df-convert\" onclick=\"convertToInteractive('df-1f8f32d4-4826-4f6e-b9db-384a565ba4ab')\"\n",
              "              title=\"Convert this dataframe to an interactive table.\"\n",
              "              style=\"display:none;\">\n",
              "        \n",
              "  <svg xmlns=\"http://www.w3.org/2000/svg\" height=\"24px\"viewBox=\"0 0 24 24\"\n",
              "       width=\"24px\">\n",
              "    <path d=\"M0 0h24v24H0V0z\" fill=\"none\"/>\n",
              "    <path d=\"M18.56 5.44l.94 2.06.94-2.06 2.06-.94-2.06-.94-.94-2.06-.94 2.06-2.06.94zm-11 1L8.5 8.5l.94-2.06 2.06-.94-2.06-.94L8.5 2.5l-.94 2.06-2.06.94zm10 10l.94 2.06.94-2.06 2.06-.94-2.06-.94-.94-2.06-.94 2.06-2.06.94z\"/><path d=\"M17.41 7.96l-1.37-1.37c-.4-.4-.92-.59-1.43-.59-.52 0-1.04.2-1.43.59L10.3 9.45l-7.72 7.72c-.78.78-.78 2.05 0 2.83L4 21.41c.39.39.9.59 1.41.59.51 0 1.02-.2 1.41-.59l7.78-7.78 2.81-2.81c.8-.78.8-2.07 0-2.86zM5.41 20L4 18.59l7.72-7.72 1.47 1.35L5.41 20z\"/>\n",
              "  </svg>\n",
              "      </button>\n",
              "      \n",
              "  <style>\n",
              "    .colab-df-container {\n",
              "      display:flex;\n",
              "      flex-wrap:wrap;\n",
              "      gap: 12px;\n",
              "    }\n",
              "\n",
              "    .colab-df-convert {\n",
              "      background-color: #E8F0FE;\n",
              "      border: none;\n",
              "      border-radius: 50%;\n",
              "      cursor: pointer;\n",
              "      display: none;\n",
              "      fill: #1967D2;\n",
              "      height: 32px;\n",
              "      padding: 0 0 0 0;\n",
              "      width: 32px;\n",
              "    }\n",
              "\n",
              "    .colab-df-convert:hover {\n",
              "      background-color: #E2EBFA;\n",
              "      box-shadow: 0px 1px 2px rgba(60, 64, 67, 0.3), 0px 1px 3px 1px rgba(60, 64, 67, 0.15);\n",
              "      fill: #174EA6;\n",
              "    }\n",
              "\n",
              "    [theme=dark] .colab-df-convert {\n",
              "      background-color: #3B4455;\n",
              "      fill: #D2E3FC;\n",
              "    }\n",
              "\n",
              "    [theme=dark] .colab-df-convert:hover {\n",
              "      background-color: #434B5C;\n",
              "      box-shadow: 0px 1px 3px 1px rgba(0, 0, 0, 0.15);\n",
              "      filter: drop-shadow(0px 1px 2px rgba(0, 0, 0, 0.3));\n",
              "      fill: #FFFFFF;\n",
              "    }\n",
              "  </style>\n",
              "\n",
              "      <script>\n",
              "        const buttonEl =\n",
              "          document.querySelector('#df-1f8f32d4-4826-4f6e-b9db-384a565ba4ab button.colab-df-convert');\n",
              "        buttonEl.style.display =\n",
              "          google.colab.kernel.accessAllowed ? 'block' : 'none';\n",
              "\n",
              "        async function convertToInteractive(key) {\n",
              "          const element = document.querySelector('#df-1f8f32d4-4826-4f6e-b9db-384a565ba4ab');\n",
              "          const dataTable =\n",
              "            await google.colab.kernel.invokeFunction('convertToInteractive',\n",
              "                                                     [key], {});\n",
              "          if (!dataTable) return;\n",
              "\n",
              "          const docLinkHtml = 'Like what you see? Visit the ' +\n",
              "            '<a target=\"_blank\" href=https://colab.research.google.com/notebooks/data_table.ipynb>data table notebook</a>'\n",
              "            + ' to learn more about interactive tables.';\n",
              "          element.innerHTML = '';\n",
              "          dataTable['output_type'] = 'display_data';\n",
              "          await google.colab.output.renderOutput(dataTable, element);\n",
              "          const docLink = document.createElement('div');\n",
              "          docLink.innerHTML = docLinkHtml;\n",
              "          element.appendChild(docLink);\n",
              "        }\n",
              "      </script>\n",
              "    </div>\n",
              "  </div>\n",
              "  "
            ]
          },
          "metadata": {},
          "execution_count": 106
        }
      ]
    },
    {
      "cell_type": "code",
      "source": [
        "# print the best score\n",
        "best_depth = scores.sort_values(by='Test Score', ascending=False).index[0]\n",
        "best_depth"
      ],
      "metadata": {
        "colab": {
          "base_uri": "https://localhost:8080/"
        },
        "id": "LDtuHciKi19M",
        "outputId": "5cd7490d-01df-4ea4-e0f2-94f7f626cdf7"
      },
      "execution_count": 109,
      "outputs": [
        {
          "output_type": "execute_result",
          "data": {
            "text/plain": [
              "6"
            ]
          },
          "metadata": {},
          "execution_count": 109
        }
      ]
    },
    {
      "cell_type": "code",
      "source": [
        "#plot the scores to visually determine the best max_depth\n",
        "import matplotlib.pyplot as plt\n",
        "\n",
        "plt.plot(depths, scores['Train Score'], label = 'train')\n",
        "plt.plot(depths, scores['Test Score'], label = 'test')\n",
        "plt.ylabel('R2 Scores')\n",
        "plt.xlabel('Max Depths')\n",
        "plt.legend()\n",
        "plt.show()"
      ],
      "metadata": {
        "colab": {
          "base_uri": "https://localhost:8080/",
          "height": 279
        },
        "id": "FgXzMFy0iSKi",
        "outputId": "6e295402-fd39-4028-c4d0-38c525859dc0"
      },
      "execution_count": 108,
      "outputs": [
        {
          "output_type": "display_data",
          "data": {
            "text/plain": [
              "<Figure size 432x288 with 1 Axes>"
            ],
            "image/png": "[encoded data removed]"
          },
          "metadata": {
            "needs_background": "light"
          }
        }
      ]
    },
    {
      "cell_type": "markdown",
      "source": [
        "From both the above outputs `Depth = 6` is the best test score output"
      ],
      "metadata": {
        "id": "70mIhHaHilD3"
      }
    },
    {
      "cell_type": "code",
      "source": [
        "# Create and evaluate a new model with the best depth from the loop above\n",
        "best_dec = DecisionTreeRegressor(max_depth=best_depth)\n",
        "best_dpipe = make_pipeline(num_processor,best_dec)\n",
        "\n",
        "best_dpipe.fit(X_train, y_train)\n",
        "\n",
        "print('Train')\n",
        "eval_regression(y_train, best_dpipe.predict(X_train))\n",
        "print('\\nTest')\n",
        "dtree_test_final = eval_regression(y_test, best_dpipe.predict(X_test))"
      ],
      "metadata": {
        "colab": {
          "base_uri": "https://localhost:8080/"
        },
        "id": "BPfgQs-Vif55",
        "outputId": "4e12968b-5505-4900-812a-667075db6260"
      },
      "execution_count": 110,
      "outputs": [
        {
          "output_type": "stream",
          "name": "stdout",
          "text": [
            "Train\n",
            "MAE 913.97,\n",
            " MSE 1643665.64,\n",
            " RMSE: 1282.06, \n",
            " R^2: 0.4446\n",
            "\n",
            "Test\n",
            "MAE 898.52,\n",
            " MSE 1637266.54,\n",
            " RMSE: 1279.56, \n",
            " R^2: 0.4066\n"
          ]
        }
      ]
    },
    {
      "cell_type": "markdown",
      "source": [
        "Now the `test r^2` = `.4066` is almost double the default Regression Tree & the Linear Regression Model. Making this the best option"
      ],
      "metadata": {
        "id": "meq0ndKljWum"
      }
    }
  ]
}